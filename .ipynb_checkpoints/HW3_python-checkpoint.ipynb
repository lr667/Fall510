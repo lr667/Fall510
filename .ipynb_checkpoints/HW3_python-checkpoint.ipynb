{
 "cells": [
  {
   "cell_type": "markdown",
   "metadata": {},
   "source": [
    "# Li Ruan"
   ]
  },
  {
   "cell_type": "markdown",
   "metadata": {},
   "source": [
    "SW: overall, very good. think about defensive programming, e.g., how to handle unexpected input values. it will make debugging a lot easier."
   ]
  },
  {
   "cell_type": "markdown",
   "metadata": {},
   "source": [
    "Question 1"
   ]
  },
  {
   "cell_type": "code",
   "execution_count": 4,
   "metadata": {
    "collapsed": false
   },
   "outputs": [
    {
     "name": "stdout",
     "output_type": "stream",
     "text": [
      "****\n",
      "*********\n",
      "*******\n",
      "**********\n",
      "***************\n"
     ]
    }
   ],
   "source": [
    "# Define a procedure histogram() that takes a list of integers and prints a histogram to the screen. \n",
    "def histogram(a):\n",
    "    '''\n",
    "    In this function, I denote i to generate n rows where n is the length of a.\n",
    "    Then I denote j to generate '*' and the number of it is the corresponding value in the list.\n",
    "    In this way, I can print a histogram.\n",
    "    '''\n",
    "    for i in range(0,len(a)):    # Use i to denote every row of the histogram.\n",
    "        c=''                     # define a blank string \n",
    "        for j in range(0,a[i]):  # In each row, I will denote j to generate '*' a[i] times.\n",
    "            c=c+'*'              \n",
    "        print(c)                 # print the histogram.\n",
    "\n",
    "histogram([4, 9, 7,10,15])      # Try to test histogram() function. (we use [4,9,7,10,15] to test)"
   ]
  },
  {
   "cell_type": "markdown",
   "metadata": {},
   "source": [
    "Question 2"
   ]
  },
  {
   "cell_type": "code",
   "execution_count": 8,
   "metadata": {
    "collapsed": false
   },
   "outputs": [
    {
     "data": {
      "text/plain": [
       "0"
      ]
     },
     "execution_count": 8,
     "metadata": {},
     "output_type": "execute_result"
    }
   ],
   "source": [
    "# define a function to output the largest one among finite or infinite numbers in a list.\n",
    "def max_in_list(a):\n",
    "    '''\n",
    "    In this function, I use compare to let variable mx compare with every number in the list and let mx \n",
    "    always be the largest one among the numbers it has compared.\n",
    "    When mx compare with all of the numbers in the list, then we can say mx is the largest.\n",
    "    \n",
    "    '''\n",
    "    mx=0  # Set the initial value of mx(=0).\n",
    "    for i in range(0,len(a)):\n",
    "        # As i steps from 0 to [the length of list a -1] one by one, so that a[i] will go through all numbres in the list.\n",
    "        if(mx<a[i]):\n",
    "            mx = a[i]   # Always let mx be the largest one \n",
    "            \n",
    "    return mx   # return the answer mx.(largest number)\n",
    "    \n",
    "max_in_list([4, 9, 7,210,15])        # Try to test max_in_list() function. (we use [4, 9, 7,210,15] to test)\n",
    "# SW: lost points: your function should handle lists of all negative values, but doesn't because you set mx to 0.\n",
    "max_in_list([-1,-2]) # should return -1"
   ]
  },
  {
   "cell_type": "markdown",
   "metadata": {},
   "source": [
    "Quention 3"
   ]
  },
  {
   "cell_type": "code",
   "execution_count": 12,
   "metadata": {
    "collapsed": false
   },
   "outputs": [
    {
     "name": "stdout",
     "output_type": "stream",
     "text": [
      "[3, 3, 4, 4, 6]\n"
     ]
    }
   ],
   "source": [
    "# Define a function to find the length of each word in a list, and then return them in order.\n",
    "def maps(a):\n",
    "    '''\n",
    "    In this function, I create a new list b, and then let each value of b is the length of the word corresponding to a.\n",
    "    Then print list b to give the length of all the words in list a.\n",
    "    \n",
    "    '''\n",
    "    b=a  # Set the initial list b : is same to a in order to make the numbers of values（whatever numbers or words) in b is the same as a\n",
    "    for i in range(0,len(a)):\n",
    "        # Let a[i] go through all the words in list a, and then can find all the numbers in list b.\n",
    "        b[i]=len(a[i])      #Let the numbers in b is corresponding to the length of words in a.\n",
    "        \n",
    "    print(b)  # Print the list b.\n",
    "    \n",
    "maps(['re ', 'efe', 'wewq','gegf','dwdwww'])\n",
    "# Try to test maps() function. (we use ['re ', 'efe', 'wewq','gegf','dwdwww'] to test)    "
   ]
  },
  {
   "cell_type": "markdown",
   "metadata": {},
   "source": [
    "Question 4"
   ]
  },
  {
   "cell_type": "code",
   "execution_count": 15,
   "metadata": {
    "collapsed": false
   },
   "outputs": [
    {
     "data": {
      "text/plain": [
       "1"
      ]
     },
     "execution_count": 15,
     "metadata": {},
     "output_type": "execute_result"
    }
   ],
   "source": [
    "# Define a function to find the longest word in a list of words and then return the length of it.\n",
    "def find_longest_word(a):\n",
    "    '''\n",
    "    In this function, I will use the knowledge in question 2 and question 3.\n",
    "    Use len() to find all the length of the words in list a and then use compare to find the largest one among them.\n",
    "    \n",
    "    '''\n",
    "    b=0      # Set the initial value of b(=0).\n",
    "    \n",
    "    for i in range(0,len(a)):  \n",
    "        # As i steps from 0 to [the length of list a -1] one by one, so that a[i] will go through all the words in the list a.\n",
    "        if(len(a[i])>b):\n",
    "            b=len(a[i])    # Always let b be the largest number among the lengths of words in list a. \n",
    "        \n",
    "    return b;   # Return b : the length of the longest one.\n",
    "           \n",
    "find_longest_word(['re ', 'efe', 'wewq','gegf','dwdwww'])\n",
    "# Try to test find_longest_word() function. (we use ['re ', 'efe', 'wewq','gegf','dwdwww'] to test)\n",
    "\n",
    "# SW: good."
   ]
  },
  {
   "cell_type": "markdown",
   "metadata": {},
   "source": [
    "Question 5"
   ]
  },
  {
   "cell_type": "code",
   "execution_count": 18,
   "metadata": {
    "collapsed": false
   },
   "outputs": [
    {
     "name": "stdout",
     "output_type": "stream",
     "text": [
      "['wewq', 'gegf', 'dwdwww']\n"
     ]
    }
   ],
   "source": [
    "# Define a function to find all the words whose length are longer than n in list a.\n",
    "def filter_long_words(a,n):\n",
    "    '''\n",
    "    In this function, I will also use the knowledge in question 4.\n",
    "    First I will find all the length in the list a and then compare them with number n to compute the words\n",
    "    whose length is longer than n.\n",
    "    \n",
    "    '''\n",
    "    b=[]  # create a new blank list b.\n",
    "    for i in range(0,len(a)):   # let i loop so that a[i] can represent every word in list a.\n",
    "        if(len(a[i])>n):        # Find all the words in list whose length are longer than n.\n",
    "            b.append(a[i])     # add these words to b\n",
    "            \n",
    "    print(b)        # print list b which is a collection of the words in a that are longer than n.\n",
    "    \n",
    "filter_long_words(['re ', 'efe', 'wewq','gegf','dwdwww'],3)\n",
    "# Try to test filter_long_words() function. (we use ['re ', 'efe', 'wewq','gegf','dwdwww'] and n=3 to test)"
   ]
  },
  {
   "cell_type": "markdown",
   "metadata": {},
   "source": [
    "Question 6"
   ]
  },
  {
   "cell_type": "code",
   "execution_count": 21,
   "metadata": {
    "collapsed": false
   },
   "outputs": [
    {
     "name": "stdout",
     "output_type": "stream",
     "text": [
      "True\n",
      "True\n"
     ]
    },
    {
     "data": {
      "text/plain": [
       "False"
      ]
     },
     "execution_count": 21,
     "metadata": {},
     "output_type": "execute_result"
    }
   ],
   "source": [
    "# Define a function to determine if a phrase is a palindromes or not.\n",
    "\n",
    "def palindromes(a):\n",
    "    '''\n",
    "    In this function, I will first transform every character in list a into a lowercase version,\n",
    "    then I produce a list of alphabet, and then check every character in the list a \n",
    "    to collect all of the lowercase in alphabet. \n",
    "    At last, it is easy to determine if it is a palindrome. (details as follows)\n",
    "    \n",
    "    '''\n",
    "    a=a.lower()     # transform all of the characters into lowercase version.\n",
    "    c=[]            # create a new blank list c.\n",
    "    i=1             # set the initial value of i (=1).\n",
    "    while i<=26:                   \n",
    "        c.append(chr(ord('a') + i-1))  \n",
    "        i = i+1\n",
    "    # I produce an alphabet, that is, abcdefghijk``````and put them in list c.\n",
    "        \n",
    "        \n",
    "    b=''                         # create a new blank list, say b.\n",
    "    l=len(a)-1                   # let l equal to (the length of list a) -1. \n",
    "    while l>=0:                  \n",
    "        if(a[l] in c):\n",
    "            b=b+a[l]\n",
    "        l=l-1\n",
    "        # record the lowercases in list a in reverse order in list b. (the uppercases have been changed to lowercases)\n",
    "        # so we can eliminate all the punctuations, spaces, and get all lowercase list.\n",
    "    \n",
    "    if(b==b[::-1]):              \n",
    "        #if b is the same as the vertion of b we consider it in reverse order, then b is a palindrome.\n",
    "        return True      # so we can return true to give a positive feedback.\n",
    "    else:\n",
    "        return False\n",
    "    \n",
    "print(palindromes('Sit on a potato pan, Otis'))\n",
    "# Test palindromes() function by 'Sit on a potato pan, Otis'.\n",
    "# we can alsotest our function by many other examples, such as \"Lisa Bonet ate no basil\" and so on.\n",
    "print(palindromes(\"Lisa Bonet ate no basil\"))\n",
    "\n",
    "# SW: good."
   ]
  },
  {
   "cell_type": "markdown",
   "metadata": {
    "collapsed": true
   },
   "source": [
    "Question 7"
   ]
  },
  {
   "cell_type": "code",
   "execution_count": 24,
   "metadata": {
    "collapsed": false
   },
   "outputs": [
    {
     "name": "stdout",
     "output_type": "stream",
     "text": [
      "True\n",
      "False\n"
     ]
    }
   ],
   "source": [
    "# define a function to determine if a sentence contain all the letters of the English alphabet at least once.\n",
    "def pangram(a):\n",
    "    '''\n",
    "    In this function, I will also first transform sentence a into a lowercase version and produce a new althabet.\n",
    "    Then I will create a new list b contain 0 for 26 times. Each one corresponds to a letter in alpgabet in order.\n",
    "    Then I check every character in sentence a, and count the times of occurance of every letter in b.\n",
    "    At last, if there is no 0 in list b, we can say the sentence a contain all the letters of the English alphabet at least once.\n",
    "    \n",
    "    '''\n",
    "    a=a.lower()                 # transform all of the characters into lowercase version.\n",
    "    c=[]                        # create a new blank list c.\n",
    "    i=1                         # set the initial value of i (=1).\n",
    "    while i<=26:                        \n",
    "        c.append(chr(ord('a') + i-1))\n",
    "        i = i+1\n",
    "    # I produce an alphabet, that is, abcdefghij``````and put them in list c.\n",
    "    \n",
    "    b = [0]*26               \n",
    "    # create a new list b contain o for 26 times. Each one corresponds to a letter in alpgabet in order.\n",
    "    for i in range(0,len(a)):    \n",
    "        # let a[i] loops through all of the character in sentence a.\n",
    "        if(a[i] in c):\n",
    "            b[ord(a[i])-ord('a')] +=1   \n",
    "            # if a letter occur, the corresponding location in b will plus 1 \n",
    "        \n",
    "    bl=True         # set the initial answer is True, and if the answer is not, we change it in the end.\n",
    "    for i in range(0,26):\n",
    "        if(b[i]==0):        \n",
    "            # determine if list b has number 0, if yes, the answer is False, that is, sentence a is not a pangram.\n",
    "            bl=False\n",
    "    return bl\n",
    "print(pangram('The quick brown fox jumps over the lazy dog'))\n",
    "# test the pangram() function by 'The quick brown fox jumps over the lazy dog'.\n",
    "# we can also test out function by other sentences such as \"Note that punctuation, capitalization, and spacing are usually ignored.\"\n",
    "print(pangram(\"Note that punctuation, capitalization, and spacing are usually ignored.\"))"
   ]
  },
  {
   "cell_type": "markdown",
   "metadata": {},
   "source": [
    "Question 8"
   ]
  },
  {
   "cell_type": "code",
   "execution_count": 25,
   "metadata": {
    "collapsed": false
   },
   "outputs": [
    {
     "name": "stdout",
     "output_type": "stream",
     "text": [
      "99 bottles of coke on the wall, 99 bottles of coke.\n",
      "Take one down, pass it around, 98 bottles of coke on the wall.\n",
      "\n",
      "98 bottles of coke on the wall, 98 bottles of coke.\n",
      "Take one down, pass it around, 97 bottles of coke on the wall.\n",
      "\n",
      "97 bottles of coke on the wall, 97 bottles of coke.\n",
      "Take one down, pass it around, 96 bottles of coke on the wall.\n",
      "\n",
      "96 bottles of coke on the wall, 96 bottles of coke.\n",
      "Take one down, pass it around, 95 bottles of coke on the wall.\n",
      "\n",
      "95 bottles of coke on the wall, 95 bottles of coke.\n",
      "Take one down, pass it around, 94 bottles of coke on the wall.\n",
      "\n",
      "94 bottles of coke on the wall, 94 bottles of coke.\n",
      "Take one down, pass it around, 93 bottles of coke on the wall.\n",
      "\n",
      "93 bottles of coke on the wall, 93 bottles of coke.\n",
      "Take one down, pass it around, 92 bottles of coke on the wall.\n",
      "\n",
      "92 bottles of coke on the wall, 92 bottles of coke.\n",
      "Take one down, pass it around, 91 bottles of coke on the wall.\n",
      "\n",
      "91 bottles of coke on the wall, 91 bottles of coke.\n",
      "Take one down, pass it around, 90 bottles of coke on the wall.\n",
      "\n",
      "90 bottles of coke on the wall, 90 bottles of coke.\n",
      "Take one down, pass it around, 89 bottles of coke on the wall.\n",
      "\n",
      "89 bottles of coke on the wall, 89 bottles of coke.\n",
      "Take one down, pass it around, 88 bottles of coke on the wall.\n",
      "\n",
      "88 bottles of coke on the wall, 88 bottles of coke.\n",
      "Take one down, pass it around, 87 bottles of coke on the wall.\n",
      "\n",
      "87 bottles of coke on the wall, 87 bottles of coke.\n",
      "Take one down, pass it around, 86 bottles of coke on the wall.\n",
      "\n",
      "86 bottles of coke on the wall, 86 bottles of coke.\n",
      "Take one down, pass it around, 85 bottles of coke on the wall.\n",
      "\n",
      "85 bottles of coke on the wall, 85 bottles of coke.\n",
      "Take one down, pass it around, 84 bottles of coke on the wall.\n",
      "\n",
      "84 bottles of coke on the wall, 84 bottles of coke.\n",
      "Take one down, pass it around, 83 bottles of coke on the wall.\n",
      "\n",
      "83 bottles of coke on the wall, 83 bottles of coke.\n",
      "Take one down, pass it around, 82 bottles of coke on the wall.\n",
      "\n",
      "82 bottles of coke on the wall, 82 bottles of coke.\n",
      "Take one down, pass it around, 81 bottles of coke on the wall.\n",
      "\n",
      "81 bottles of coke on the wall, 81 bottles of coke.\n",
      "Take one down, pass it around, 80 bottles of coke on the wall.\n",
      "\n",
      "80 bottles of coke on the wall, 80 bottles of coke.\n",
      "Take one down, pass it around, 79 bottles of coke on the wall.\n",
      "\n",
      "79 bottles of coke on the wall, 79 bottles of coke.\n",
      "Take one down, pass it around, 78 bottles of coke on the wall.\n",
      "\n",
      "78 bottles of coke on the wall, 78 bottles of coke.\n",
      "Take one down, pass it around, 77 bottles of coke on the wall.\n",
      "\n",
      "77 bottles of coke on the wall, 77 bottles of coke.\n",
      "Take one down, pass it around, 76 bottles of coke on the wall.\n",
      "\n",
      "76 bottles of coke on the wall, 76 bottles of coke.\n",
      "Take one down, pass it around, 75 bottles of coke on the wall.\n",
      "\n",
      "75 bottles of coke on the wall, 75 bottles of coke.\n",
      "Take one down, pass it around, 74 bottles of coke on the wall.\n",
      "\n",
      "74 bottles of coke on the wall, 74 bottles of coke.\n",
      "Take one down, pass it around, 73 bottles of coke on the wall.\n",
      "\n",
      "73 bottles of coke on the wall, 73 bottles of coke.\n",
      "Take one down, pass it around, 72 bottles of coke on the wall.\n",
      "\n",
      "72 bottles of coke on the wall, 72 bottles of coke.\n",
      "Take one down, pass it around, 71 bottles of coke on the wall.\n",
      "\n",
      "71 bottles of coke on the wall, 71 bottles of coke.\n",
      "Take one down, pass it around, 70 bottles of coke on the wall.\n",
      "\n",
      "70 bottles of coke on the wall, 70 bottles of coke.\n",
      "Take one down, pass it around, 69 bottles of coke on the wall.\n",
      "\n",
      "69 bottles of coke on the wall, 69 bottles of coke.\n",
      "Take one down, pass it around, 68 bottles of coke on the wall.\n",
      "\n",
      "68 bottles of coke on the wall, 68 bottles of coke.\n",
      "Take one down, pass it around, 67 bottles of coke on the wall.\n",
      "\n",
      "67 bottles of coke on the wall, 67 bottles of coke.\n",
      "Take one down, pass it around, 66 bottles of coke on the wall.\n",
      "\n",
      "66 bottles of coke on the wall, 66 bottles of coke.\n",
      "Take one down, pass it around, 65 bottles of coke on the wall.\n",
      "\n",
      "65 bottles of coke on the wall, 65 bottles of coke.\n",
      "Take one down, pass it around, 64 bottles of coke on the wall.\n",
      "\n",
      "64 bottles of coke on the wall, 64 bottles of coke.\n",
      "Take one down, pass it around, 63 bottles of coke on the wall.\n",
      "\n",
      "63 bottles of coke on the wall, 63 bottles of coke.\n",
      "Take one down, pass it around, 62 bottles of coke on the wall.\n",
      "\n",
      "62 bottles of coke on the wall, 62 bottles of coke.\n",
      "Take one down, pass it around, 61 bottles of coke on the wall.\n",
      "\n",
      "61 bottles of coke on the wall, 61 bottles of coke.\n",
      "Take one down, pass it around, 60 bottles of coke on the wall.\n",
      "\n",
      "60 bottles of coke on the wall, 60 bottles of coke.\n",
      "Take one down, pass it around, 59 bottles of coke on the wall.\n",
      "\n",
      "59 bottles of coke on the wall, 59 bottles of coke.\n",
      "Take one down, pass it around, 58 bottles of coke on the wall.\n",
      "\n",
      "58 bottles of coke on the wall, 58 bottles of coke.\n",
      "Take one down, pass it around, 57 bottles of coke on the wall.\n",
      "\n",
      "57 bottles of coke on the wall, 57 bottles of coke.\n",
      "Take one down, pass it around, 56 bottles of coke on the wall.\n",
      "\n",
      "56 bottles of coke on the wall, 56 bottles of coke.\n",
      "Take one down, pass it around, 55 bottles of coke on the wall.\n",
      "\n",
      "55 bottles of coke on the wall, 55 bottles of coke.\n",
      "Take one down, pass it around, 54 bottles of coke on the wall.\n",
      "\n",
      "54 bottles of coke on the wall, 54 bottles of coke.\n",
      "Take one down, pass it around, 53 bottles of coke on the wall.\n",
      "\n",
      "53 bottles of coke on the wall, 53 bottles of coke.\n",
      "Take one down, pass it around, 52 bottles of coke on the wall.\n",
      "\n",
      "52 bottles of coke on the wall, 52 bottles of coke.\n",
      "Take one down, pass it around, 51 bottles of coke on the wall.\n",
      "\n",
      "51 bottles of coke on the wall, 51 bottles of coke.\n",
      "Take one down, pass it around, 50 bottles of coke on the wall.\n",
      "\n",
      "50 bottles of coke on the wall, 50 bottles of coke.\n",
      "Take one down, pass it around, 49 bottles of coke on the wall.\n",
      "\n",
      "49 bottles of coke on the wall, 49 bottles of coke.\n",
      "Take one down, pass it around, 48 bottles of coke on the wall.\n",
      "\n",
      "48 bottles of coke on the wall, 48 bottles of coke.\n",
      "Take one down, pass it around, 47 bottles of coke on the wall.\n",
      "\n",
      "47 bottles of coke on the wall, 47 bottles of coke.\n",
      "Take one down, pass it around, 46 bottles of coke on the wall.\n",
      "\n",
      "46 bottles of coke on the wall, 46 bottles of coke.\n",
      "Take one down, pass it around, 45 bottles of coke on the wall.\n",
      "\n",
      "45 bottles of coke on the wall, 45 bottles of coke.\n",
      "Take one down, pass it around, 44 bottles of coke on the wall.\n",
      "\n",
      "44 bottles of coke on the wall, 44 bottles of coke.\n",
      "Take one down, pass it around, 43 bottles of coke on the wall.\n",
      "\n",
      "43 bottles of coke on the wall, 43 bottles of coke.\n",
      "Take one down, pass it around, 42 bottles of coke on the wall.\n",
      "\n",
      "42 bottles of coke on the wall, 42 bottles of coke.\n",
      "Take one down, pass it around, 41 bottles of coke on the wall.\n",
      "\n",
      "41 bottles of coke on the wall, 41 bottles of coke.\n",
      "Take one down, pass it around, 40 bottles of coke on the wall.\n",
      "\n",
      "40 bottles of coke on the wall, 40 bottles of coke.\n",
      "Take one down, pass it around, 39 bottles of coke on the wall.\n",
      "\n",
      "39 bottles of coke on the wall, 39 bottles of coke.\n",
      "Take one down, pass it around, 38 bottles of coke on the wall.\n",
      "\n",
      "38 bottles of coke on the wall, 38 bottles of coke.\n",
      "Take one down, pass it around, 37 bottles of coke on the wall.\n",
      "\n",
      "37 bottles of coke on the wall, 37 bottles of coke.\n",
      "Take one down, pass it around, 36 bottles of coke on the wall.\n",
      "\n",
      "36 bottles of coke on the wall, 36 bottles of coke.\n",
      "Take one down, pass it around, 35 bottles of coke on the wall.\n",
      "\n",
      "35 bottles of coke on the wall, 35 bottles of coke.\n",
      "Take one down, pass it around, 34 bottles of coke on the wall.\n",
      "\n",
      "34 bottles of coke on the wall, 34 bottles of coke.\n",
      "Take one down, pass it around, 33 bottles of coke on the wall.\n",
      "\n",
      "33 bottles of coke on the wall, 33 bottles of coke.\n",
      "Take one down, pass it around, 32 bottles of coke on the wall.\n",
      "\n",
      "32 bottles of coke on the wall, 32 bottles of coke.\n",
      "Take one down, pass it around, 31 bottles of coke on the wall.\n",
      "\n",
      "31 bottles of coke on the wall, 31 bottles of coke.\n",
      "Take one down, pass it around, 30 bottles of coke on the wall.\n",
      "\n",
      "30 bottles of coke on the wall, 30 bottles of coke.\n",
      "Take one down, pass it around, 29 bottles of coke on the wall.\n",
      "\n",
      "29 bottles of coke on the wall, 29 bottles of coke.\n",
      "Take one down, pass it around, 28 bottles of coke on the wall.\n",
      "\n",
      "28 bottles of coke on the wall, 28 bottles of coke.\n",
      "Take one down, pass it around, 27 bottles of coke on the wall.\n",
      "\n",
      "27 bottles of coke on the wall, 27 bottles of coke.\n",
      "Take one down, pass it around, 26 bottles of coke on the wall.\n",
      "\n",
      "26 bottles of coke on the wall, 26 bottles of coke.\n",
      "Take one down, pass it around, 25 bottles of coke on the wall.\n",
      "\n",
      "25 bottles of coke on the wall, 25 bottles of coke.\n",
      "Take one down, pass it around, 24 bottles of coke on the wall.\n",
      "\n",
      "24 bottles of coke on the wall, 24 bottles of coke.\n",
      "Take one down, pass it around, 23 bottles of coke on the wall.\n",
      "\n",
      "23 bottles of coke on the wall, 23 bottles of coke.\n",
      "Take one down, pass it around, 22 bottles of coke on the wall.\n",
      "\n",
      "22 bottles of coke on the wall, 22 bottles of coke.\n",
      "Take one down, pass it around, 21 bottles of coke on the wall.\n",
      "\n",
      "21 bottles of coke on the wall, 21 bottles of coke.\n",
      "Take one down, pass it around, 20 bottles of coke on the wall.\n",
      "\n",
      "20 bottles of coke on the wall, 20 bottles of coke.\n",
      "Take one down, pass it around, 19 bottles of coke on the wall.\n",
      "\n",
      "19 bottles of coke on the wall, 19 bottles of coke.\n",
      "Take one down, pass it around, 18 bottles of coke on the wall.\n",
      "\n",
      "18 bottles of coke on the wall, 18 bottles of coke.\n",
      "Take one down, pass it around, 17 bottles of coke on the wall.\n",
      "\n",
      "17 bottles of coke on the wall, 17 bottles of coke.\n",
      "Take one down, pass it around, 16 bottles of coke on the wall.\n",
      "\n",
      "16 bottles of coke on the wall, 16 bottles of coke.\n",
      "Take one down, pass it around, 15 bottles of coke on the wall.\n",
      "\n",
      "15 bottles of coke on the wall, 15 bottles of coke.\n",
      "Take one down, pass it around, 14 bottles of coke on the wall.\n",
      "\n",
      "14 bottles of coke on the wall, 14 bottles of coke.\n",
      "Take one down, pass it around, 13 bottles of coke on the wall.\n",
      "\n",
      "13 bottles of coke on the wall, 13 bottles of coke.\n",
      "Take one down, pass it around, 12 bottles of coke on the wall.\n",
      "\n",
      "12 bottles of coke on the wall, 12 bottles of coke.\n",
      "Take one down, pass it around, 11 bottles of coke on the wall.\n",
      "\n",
      "11 bottles of coke on the wall, 11 bottles of coke.\n",
      "Take one down, pass it around, 10 bottles of coke on the wall.\n",
      "\n",
      "10 bottles of coke on the wall, 10 bottles of coke.\n",
      "Take one down, pass it around, 9 bottles of coke on the wall.\n",
      "\n",
      "9 bottles of coke on the wall, 9 bottles of coke.\n",
      "Take one down, pass it around, 8 bottles of coke on the wall.\n",
      "\n",
      "8 bottles of coke on the wall, 8 bottles of coke.\n",
      "Take one down, pass it around, 7 bottles of coke on the wall.\n",
      "\n",
      "7 bottles of coke on the wall, 7 bottles of coke.\n",
      "Take one down, pass it around, 6 bottles of coke on the wall.\n",
      "\n",
      "6 bottles of coke on the wall, 6 bottles of coke.\n",
      "Take one down, pass it around, 5 bottles of coke on the wall.\n",
      "\n",
      "5 bottles of coke on the wall, 5 bottles of coke.\n",
      "Take one down, pass it around, 4 bottles of coke on the wall.\n",
      "\n",
      "4 bottles of coke on the wall, 4 bottles of coke.\n",
      "Take one down, pass it around, 3 bottles of coke on the wall.\n",
      "\n",
      "3 bottles of coke on the wall, 3 bottles of coke.\n",
      "Take one down, pass it around, 2 bottles of coke on the wall.\n",
      "\n",
      "2 bottles of coke on the wall, 2 bottles of coke.\n",
      "Take one down, pass it around, 1 bottles of coke on the wall.\n",
      "\n",
      "1 bottles of coke on the wall, 1 bottles of coke.\n",
      "Take one down, pass it around, 0 bottles of coke on the wall.\n",
      "\n"
     ]
    }
   ],
   "source": [
    "# generate all the verses of the song--- \"Bottles of Coke\" in the form :\n",
    "# \"99 bottles of coke on the wall, 99 bottles of coke. Take one down, pass it around, 98 bottles of coke on the wall.\"\n",
    "\n",
    "i = 99         # set the initial calue of i(=99).\n",
    "while i>=1:\n",
    "    print(str(i)+ ' bottles of coke on the wall, '+str(i)+' bottles of coke.')\n",
    "    # generate the first sentence, \"i bottles coke on the wall, i bottle of coke.\"\n",
    "    i -= 1     \n",
    "    \n",
    "    # let i loop from 99 to 1 to generate all the verses of the song.\n",
    "    print('Take one down, pass it around, '+str(i)+' bottles of coke on the wall.'+'\\n')\n",
    "    # the second sentence is 'Take one down, pass it around, i-1 bottles of coke on the wall.'\n",
    "    # then we also have a newline between two verses.\n",
    "    \n",
    "# SW: this is fine, but in general you would prefer to write a function that does this so that it can be called\n",
    "#     from another part of your code."
   ]
  },
  {
   "cell_type": "markdown",
   "metadata": {},
   "source": [
    "Question 9"
   ]
  },
  {
   "cell_type": "code",
   "execution_count": 29,
   "metadata": {
    "collapsed": false
   },
   "outputs": [
    {
     "name": "stdout",
     "output_type": "stream",
     "text": [
      "god jul \n"
     ]
    },
    {
     "ename": "KeyError",
     "evalue": "'merry christmas'",
     "output_type": "error",
     "traceback": [
      "\u001b[0;31m---------------------------------------------------------------------------\u001b[0m",
      "\u001b[0;31mKeyError\u001b[0m                                  Traceback (most recent call last)",
      "\u001b[0;32m<ipython-input-29-4bbeaff9aa02>\u001b[0m in \u001b[0;36m<module>\u001b[0;34m()\u001b[0m\n\u001b[1;32m     20\u001b[0m \u001b[0;34m\u001b[0m\u001b[0m\n\u001b[1;32m     21\u001b[0m \u001b[0mprint\u001b[0m\u001b[0;34m(\u001b[0m\u001b[0mtranslate\u001b[0m\u001b[0;34m(\u001b[0m\u001b[0;34m[\u001b[0m\u001b[0;34m'merry'\u001b[0m\u001b[0;34m,\u001b[0m\u001b[0;34m'christmas'\u001b[0m\u001b[0;34m]\u001b[0m\u001b[0;34m)\u001b[0m\u001b[0;34m)\u001b[0m\u001b[0;34m\u001b[0m\u001b[0m\n\u001b[0;32m---> 22\u001b[0;31m \u001b[0mtranslate\u001b[0m\u001b[0;34m(\u001b[0m\u001b[0;34m[\u001b[0m\u001b[0;34m'merry christmas'\u001b[0m\u001b[0;34m]\u001b[0m\u001b[0;34m)\u001b[0m\u001b[0;34m\u001b[0m\u001b[0m\n\u001b[0m",
      "\u001b[0;32m<ipython-input-29-4bbeaff9aa02>\u001b[0m in \u001b[0;36mtranslate\u001b[0;34m(l)\u001b[0m\n\u001b[1;32m     13\u001b[0m     \u001b[0;32mfor\u001b[0m \u001b[0mi\u001b[0m \u001b[0;32min\u001b[0m \u001b[0mrange\u001b[0m\u001b[0;34m(\u001b[0m\u001b[0;36m0\u001b[0m\u001b[0;34m,\u001b[0m\u001b[0mlen\u001b[0m\u001b[0;34m(\u001b[0m\u001b[0ml\u001b[0m\u001b[0;34m)\u001b[0m\u001b[0;34m)\u001b[0m\u001b[0;34m:\u001b[0m\u001b[0;34m\u001b[0m\u001b[0m\n\u001b[1;32m     14\u001b[0m         \u001b[0;31m# let l[i] loops through every word in distionary.\u001b[0m\u001b[0;34m\u001b[0m\u001b[0;34m\u001b[0m\u001b[0m\n\u001b[0;32m---> 15\u001b[0;31m         \u001b[0mc\u001b[0m \u001b[0;34m=\u001b[0m \u001b[0mc\u001b[0m \u001b[0;34m+\u001b[0m \u001b[0ma\u001b[0m\u001b[0;34m[\u001b[0m\u001b[0ml\u001b[0m\u001b[0;34m[\u001b[0m\u001b[0mi\u001b[0m\u001b[0;34m]\u001b[0m\u001b[0;34m]\u001b[0m\u001b[0;34m+\u001b[0m\u001b[0;34m\" \"\u001b[0m  \u001b[0;31m#let c be the translated words and paste them together with a space.\u001b[0m\u001b[0;34m\u001b[0m\u001b[0m\n\u001b[0m\u001b[1;32m     16\u001b[0m     \u001b[0;32mreturn\u001b[0m \u001b[0mc\u001b[0m\u001b[0;34m\u001b[0m\u001b[0m\n\u001b[1;32m     17\u001b[0m \u001b[0;34m\u001b[0m\u001b[0m\n",
      "\u001b[0;31mKeyError\u001b[0m: 'merry christmas'"
     ]
    }
   ],
   "source": [
    "# Define a function translate() that takes a list of English words and returns a list of Swedish words.\n",
    "# It should follow a given Python dictionary.\n",
    "\n",
    "def translate(l):\n",
    "    '''\n",
    "    In the function, I define a small Python dictionary to translate my chrismas card.\n",
    "    And then I will output the new Swedish word trnaslated from each word in English.\n",
    "    \n",
    "    '''\n",
    "    a = {\"merry\":\"god\", \"christmas\":\"jul\", \"and\":\"och\", \"happy\":\"gott\", \"new\":\"nytt\", \"year\":\"år\"}  \n",
    "    # Define a dictionary (the question has given).\n",
    "    c = ''     # Set a new blank list c.\n",
    "    for i in range(0,len(l)):   \n",
    "        # let l[i] loops through every word in distionary. \n",
    "        c = c + a[l[i]]+\" \"  #let c be the translated words and paste them together with a space.\n",
    "    return c\n",
    "\n",
    "translate(['merry','christmas','and','happy','new','year'])\n",
    "# Test translate() function by the given example: ['merry','christmas','and','happy','new','year'], and we can have a list of Swedish words. \n",
    "\n",
    "# SW: this is fine, but think about how you want to handle unexpected input, e.g., list items that do not appear in\n",
    "#     the dictionary. should you return them untranslated? should you print an informative error message?\n",
    "print(translate(['merry','christmas']))\n",
    "translate(['merry christmas'])"
   ]
  },
  {
   "cell_type": "markdown",
   "metadata": {},
   "source": [
    "Question 10"
   ]
  },
  {
   "cell_type": "code",
   "execution_count": 31,
   "metadata": {
    "collapsed": false
   },
   "outputs": [
    {
     "data": {
      "text/plain": [
       "{'a': 0,\n",
       " 'b': 0,\n",
       " 'c': 0,\n",
       " 'd': 0,\n",
       " 'e': 0,\n",
       " 'f': 0,\n",
       " 'g': 0,\n",
       " 'h': 0,\n",
       " 'i': 0,\n",
       " 'j': 0,\n",
       " 'k': 0,\n",
       " 'l': 0,\n",
       " 'm': 0,\n",
       " 'n': 0,\n",
       " 'o': 0,\n",
       " 'p': 0,\n",
       " 'q': 0,\n",
       " 'r': 0,\n",
       " 's': 0,\n",
       " 't': 0,\n",
       " 'u': 0,\n",
       " 'v': 0,\n",
       " 'w': 0,\n",
       " 'x': 0,\n",
       " 'y': 0,\n",
       " 'z': 0}"
      ]
     },
     "execution_count": 31,
     "metadata": {},
     "output_type": "execute_result"
    }
   ],
   "source": [
    "# Define a function that takes a string and builds a frequency listing of the characters contained in it. \n",
    "def char_freq(a):         \n",
    "    '''\n",
    "    In this function, I would like to use the similar method like question 7.\n",
    "    First, I transform sentence a into a lowercase version and produce a new althabet.\n",
    "    Then I will create a new list b contain 0 for 26 times. Each one corresponds to a letter in alpgabet in order.\n",
    "    Then I check every character in sentence a, and count the times of occurance of every letter in b.\n",
    "    So the list b record all the frequency of every character and I express it more clesrly by create a new collection d.\n",
    "    '''\n",
    "\n",
    "    a=a.lower()                 # transform all of the characters into lowercase version.\n",
    "    c=[]                        # create a new blank list c.\n",
    "    i=1                         # set the initial value of i (=1).\n",
    "    while i<=26:                        \n",
    "        c.append(chr(ord('a') + i-1))\n",
    "        i = i+1\n",
    "    # I produce an alphabet, that is, abcdefghij``````and put them in list c.\n",
    "    \n",
    "    b = [0]*26               \n",
    "    # create a new list b contain o for 26 times. Each one corresponds to a letter in alpgabet in order.\n",
    "    for i in range(0,len(a)):    \n",
    "        # let a[i] loops through all of the character in sentence a.\n",
    "        if(a[i] in c):\n",
    "            b[ord(a[i])-ord('a')] +=1   \n",
    "            # if a letter occur, the corresponding location in b will plus 1 \n",
    "        \n",
    "    d = {}   # create a new blank collection d.\n",
    "    for i in range(0,26):\n",
    "        d[c[i]]=b[i]    \n",
    "        # In order to express the frequency clearly, we use d to record each character and its frequency.\n",
    "    return d\n",
    "\n",
    "char_freq(\"abbabcbdbabdbdbabababcbcbab\")\n",
    "# Test char_freq() function by the given example: \"abbabcbdbabdbdbabababcbcbab\".\n",
    "\n",
    "# SW: lost points: what about characters that are not letters, e.g., numbers and symbols? you should account for\n",
    "#     them as well.\n",
    "#     and, as an implementation consideration, do you always want to return counts for all possible characters even\n",
    "#     if many or most of them are zero? \n",
    "char_freq('123?')"
   ]
  },
  {
   "cell_type": "code",
   "execution_count": null,
   "metadata": {
    "collapsed": true
   },
   "outputs": [],
   "source": []
  },
  {
   "cell_type": "markdown",
   "metadata": {},
   "source": [
    "Question 11"
   ]
  },
  {
   "cell_type": "code",
   "execution_count": 32,
   "metadata": {
    "collapsed": false
   },
   "outputs": [
    {
     "name": "stdout",
     "output_type": "stream",
     "text": [
      "qrqqr\n",
      "tbbq zbeavat\n"
     ]
    }
   ],
   "source": [
    "# Define an encoder() function to encode any phrase by Caesar cipher.\n",
    "def encoder(a):\n",
    "    '''\n",
    "    In this function, let a[i] loops through every charater in a, and I will use Caesar cipher key to change \n",
    "    characters in key so that this can be applied to encode any phrase.\n",
    "    That is, if the character is the same as the one before the colon, we change it to the character after the colon. \n",
    "    \n",
    "    '''\n",
    "    key = {'a':'n', 'b':'o', 'c':'p', 'd':'q', 'e':'r', 'f':'s', 'g':'t', 'h':'u', 'i':'v', 'j':'w', 'k':'x', 'l':'y', 'm':'z', 'n':'a', 'o':'b', 'p':'c', 'q':'d', 'r':'e', 's':'f', 't':'g', 'u':'h', 'v':'i', 'w':'j', 'x':'k', 'y':'l', 'z':'m', 'A':'N', 'B':'O', 'C':'P', 'D':'Q', 'E':'R', 'F':'S', 'G':'T', 'H':'U', 'I':'V', 'J':'W', 'K':'X', 'L':'Y', 'M':'Z', 'N':'A', 'O':'B', 'P':'C', 'Q':'D', 'R':'E', 'S':'F', 'T':'G', 'U':'H', 'V':'I', 'W':'J', 'X':'K', 'Y':'L', 'Z':'M'}\n",
    "    # use the given key, so that we can get the encode dictionary.\n",
    "    c = ''   # Set the initial c (null)\n",
    "    for i in range(0,len(a)):\n",
    "        # As i steps from 0 to (the length of a)-1, we can get a[i] loop through every character in a. \n",
    "        if(a[i] in key):\n",
    "            # determine if the character is in our defined dictionary and then I can encode it.\n",
    "            c = c + key[a[i]]    # use c to record the endoded character.\n",
    "        else:\n",
    "            c = c + a[i]         # if the character is not in dictionary, so we just add its original version to c.\n",
    "    return c                    # Therefore, I use c to collect the encoded phrase and return it.\n",
    "\n",
    "\n",
    "print(encoder(\"dedde\"))\n",
    "print(encoder(\"good morning\"))\n",
    "# Test the encoder() function by any phrase such as \"dedde\" or \"good morning\". (other is also ok)"
   ]
  },
  {
   "cell_type": "code",
   "execution_count": 35,
   "metadata": {
    "collapsed": false
   },
   "outputs": [
    {
     "name": "stdout",
     "output_type": "stream",
     "text": [
      "Caesar cipher? I much prefer Caesar salad!\n",
      "Pnrfne pvcure? V zhpu cersre Pnrfne fnynq!\n"
     ]
    }
   ],
   "source": [
    "# Define a decoder() function to decode any phrase that is encoded by Caesar cipher.\n",
    "def decoder(a):\n",
    "    '''\n",
    "    In this function, let a[i] loops through every charater in the encoded phrase a, and I create a new dictionary which\n",
    "    switch the items in Caesar cipher near every colon, to decode characters that is encoded by Caesar cipher. \n",
    "    That is, see it in the original distionary, if the character is the same as the one after the colon,\n",
    "    we change it to the character in front of the colon.\n",
    "    \n",
    "    '''\n",
    "    k1={}        # create a new blank dictionary k1.\n",
    "    c=''         # set an initial c (null)\n",
    "    key = {'a':'n', 'b':'o', 'c':'p', 'd':'q', 'e':'r', 'f':'s', 'g':'t', 'h':'u', 'i':'v', 'j':'w', 'k':'x', 'l':'y', 'm':'z', 'n':'a', 'o':'b', 'p':'c', 'q':'d', 'r':'e', 's':'f', 't':'g', 'u':'h', 'v':'i', 'w':'j', 'x':'k', 'y':'l', 'z':'m', 'A':'N', 'B':'O', 'C':'P', 'D':'Q', 'E':'R', 'F':'S', 'G':'T', 'H':'U', 'I':'V', 'J':'W', 'K':'X', 'L':'Y', 'M':'Z', 'N':'A', 'O':'B', 'P':'C', 'Q':'D', 'R':'E', 'S':'F', 'T':'G', 'U':'H', 'V':'I', 'W':'J', 'X':'K', 'Y':'L', 'Z':'M'}\n",
    "    # use the given key, so that we can get the decode dictionary.\n",
    "    for i,j in key.items():\n",
    "        k1[j]=i    \n",
    "    # let k1 be a new key which is the version that switch the items near every colon in original defined dictionary. \n",
    "    for i in range(0,len(a)):\n",
    "         # As i steps from 0 to (the length of a)-1, we can get a[i] loop through every character in a. \n",
    "        if(a[i] in k1):   \n",
    "            # determine if the character is in our new defined dictionary k1 and then I can decode it.\n",
    "            c = c + k1[a[i]]     # use c to record the dedoded character.\n",
    "        else:\n",
    "            c = c + a[i]         # if the character is not in k1, so we just add the character to c.\n",
    "    return c\n",
    "      # Therefore, I use c to collect the decoded phrase and return it.\n",
    "\n",
    "decoder('Pnrfne pvcure? V zhpu cersre Pnrfne fnynq!')\n",
    "# Test the decoder() function by the given phrase: 'Pnrfne pvcure? V zhpu cersre Pnrfne fnynq!'\n",
    "\n",
    "# SW: decoder and encoder are really the same function, right?\n",
    "print(decoder('Pnrfne pvcure? V zhpu cersre Pnrfne fnynq!'))\n",
    "print(decoder(decoder('Pnrfne pvcure? V zhpu cersre Pnrfne fnynq!')))"
   ]
  },
  {
   "cell_type": "markdown",
   "metadata": {},
   "source": [
    "Question 12"
   ]
  },
  {
   "cell_type": "code",
   "execution_count": 42,
   "metadata": {
    "collapsed": false
   },
   "outputs": [
    {
     "data": {
      "text/plain": [
       "'This is correct. a'"
      ]
     },
     "execution_count": 42,
     "metadata": {},
     "output_type": "execute_result"
    }
   ],
   "source": [
    "# Define a simple \"spelling correction\" function correct() to transform a given string into a correct version.\n",
    "def correct(a):\n",
    "    '''\n",
    "    In this function, I will use if-elif statement to determine every space (by looping a[i] through every character) \n",
    "    if it is in a error case and then correct them. \n",
    "    '''\n",
    "    l = len(a)   # Let l be the length of phrase a.\n",
    "    while l >= 0:\n",
    "        l = l - 1\n",
    "        # Let a[l] steps from the original l-1 to 0 so that a[l] can loop through every character.\n",
    "        # And when it is done, we can see that the phrase has been corrected.\n",
    "        if(a[l]==' ' and a[l-1]==' '):  # replace the '  '(tep spaces) into ' '(one space)\n",
    "            a = a.replace('  ', ' ', 1)\n",
    "            \n",
    "        elif a[l]=='.' and a[l+1]!=' ':  \n",
    "            # replace the '.' (if it isn't followed by a space) into '. '(conclude a space)\n",
    "            a = a.replace('.', '. ', 1)\n",
    "    return a   \n",
    "\n",
    "correct(\"This  is very funny and  cool.Indeed!\")\n",
    "# Test the correct() function by \"This  is very funny and  cool.Indeed!\".\n",
    "\n",
    "# SW: lost points: your function does not handle the case when a string terminates in a period because of the i + 1\n",
    "#     indexing. if the final character in the string is a period, then referencing the i + 1 character will throw\n",
    "#     and out of bounds error.\n",
    "correct('Correct.')"
   ]
  },
  {
   "cell_type": "markdown",
   "metadata": {},
   "source": [
    "Question 13"
   ]
  },
  {
   "cell_type": "code",
   "execution_count": 43,
   "metadata": {
    "collapsed": false
   },
   "outputs": [
    {
     "name": "stdout",
     "output_type": "stream",
     "text": [
      "fixes\n",
      "brushes\n",
      "runs\n",
      "goes\n"
     ]
    }
   ],
   "source": [
    "# define a function make_3sg_form() which given a verb in infinitive form returns its third person singular form.\n",
    "def make_3sg_form(a):\n",
    "    '''\n",
    "    In this function, I will use if-elif statement to determine each case of words, and then \n",
    "    transform them to the third person singular form. And the solution to each case will be stated in detail\n",
    "    as follows.\n",
    "    \n",
    "    '''\n",
    "    if(a.endswith('y')):\n",
    "        a = a[:len(a)-1]+'ies'   # if word end in y, we eliminate y and add 'ies'\n",
    "    elif(a.endswith('o')|a.endswith('ch')|a.endswith('s')|a.endswith('sh')|a.endswith('x')|a.endswith('z')):\n",
    "        a = a + 'es'           # if word end in o, ch, s, sh, x or z, we add 'es' at the end.\n",
    "    else:\n",
    "        a = a + 's'           # Otherwise, we just add s to make them to be the third person singular form.\n",
    "    return a\n",
    "\n",
    "print(make_3sg_form('fix'))\n",
    "# Test make_3sg_form() function with \"fix\".\n",
    "print(make_3sg_form('brush'))\n",
    "print(make_3sg_form('run'))\n",
    "# We can also test make_3sg_form() function with \"brush\" or \"run\" and so on.\n",
    "\n",
    "# SW: good."
   ]
  },
  {
   "cell_type": "markdown",
   "metadata": {},
   "source": [
    "Question 14"
   ]
  },
  {
   "cell_type": "code",
   "execution_count": 47,
   "metadata": {
    "collapsed": false
   },
   "outputs": [
    {
     "name": "stdout",
     "output_type": "stream",
     "text": [
      "badding\n",
      "moving\n",
      "lying\n"
     ]
    }
   ],
   "source": [
    " # define a function make_ing_form() which given a verb in infinitive form returns its present participle form.\n",
    "def myVol(a): \n",
    "    '''\n",
    "    In this function, I will use an easy way to translate the character to a lowercase version.\n",
    "    In this way, I can use this function directly in the next function.\n",
    "    \n",
    "    '''\n",
    "    a = a.lower()   # translate the character to a lowercase version.\n",
    "    if a == 'a'or a=='e'or a=='i'or a=='o'or a=='u':    \n",
    "        # If the input character is a vowel (that is, one of a,e,i,o,u), then retuen True.\n",
    "        return True\n",
    "    else:            # If the input character is not a vowel, then retuen False.\n",
    "        return False\n",
    "    \n",
    "def make_ing_form(a):\n",
    "    '''\n",
    "    In this function, I will use the similar method like question 13, but it is should be soluted in more cases.\n",
    "    I still use if-elif statement to treat different cases.\n",
    "    And the solution to each case will be stated in detail as follows.\n",
    "    \n",
    "    '''\n",
    "    if(a=='be'or a=='see'or a=='flee'or a=='knee'):\n",
    "        a = a + 'ing'\n",
    "        # One special case, as for words: be, see, flee, knee, etc, they will add 'ing' directly.\n",
    "    elif(myVol(a[len(a)-1])==False and myVol(a[len(a)-2])==True and myVol(a[len(a)-3])==False):\n",
    "        a = a + a[len(a)-1]+'ing'   \n",
    "        # Another case, for words consisting of consonant-vowel-consonant at the end, \n",
    "        # we double the final letter before adding 'ing'.\n",
    "\n",
    "    elif(a.endswith('ie')):\n",
    "        a = a[:len(a)-2]+'ying'\n",
    "        # If the verb ends in ie, change ie to y and add 'ing'\n",
    "        \n",
    "    elif(a.endswith('e')):\n",
    "        a = a[:len(a)-1]+'ing'\n",
    "        # If the verb ends in e, drop the e and add 'ing'\n",
    "        \n",
    "    else:\n",
    "         a = a+'ing'\n",
    "        # If the verb is not included in each of the cases above, we add 'ing' directly.\n",
    "        \n",
    "    return a   # return a, the transformed version we get.\n",
    "\n",
    "   \n",
    "print(make_ing_form('bad'))\n",
    "# Test make_ing_form() function by an example \"bad\".\n",
    "print(make_ing_form('move'))\n",
    "print(make_ing_form('lie'))\n",
    "# We can also test make_ing_form() function with \"move\" or \"lie\" and so on.\n",
    "\n",
    "# SW: very good."
   ]
  },
  {
   "cell_type": "code",
   "execution_count": null,
   "metadata": {
    "collapsed": false
   },
   "outputs": [],
   "source": []
  },
  {
   "cell_type": "code",
   "execution_count": null,
   "metadata": {
    "collapsed": true
   },
   "outputs": [],
   "source": []
  },
  {
   "cell_type": "code",
   "execution_count": null,
   "metadata": {
    "collapsed": true
   },
   "outputs": [],
   "source": []
  },
  {
   "cell_type": "code",
   "execution_count": null,
   "metadata": {
    "collapsed": true
   },
   "outputs": [],
   "source": []
  },
  {
   "cell_type": "code",
   "execution_count": null,
   "metadata": {
    "collapsed": true
   },
   "outputs": [],
   "source": []
  },
  {
   "cell_type": "code",
   "execution_count": null,
   "metadata": {
    "collapsed": true
   },
   "outputs": [],
   "source": []
  }
 ],
 "metadata": {
  "kernelspec": {
   "display_name": "Python 3",
   "language": "python",
   "name": "python3"
  },
  "language_info": {
   "codemirror_mode": {
    "name": "ipython",
    "version": 3
   },
   "file_extension": ".py",
   "mimetype": "text/x-python",
   "name": "python",
   "nbconvert_exporter": "python",
   "pygments_lexer": "ipython3",
   "version": "3.4.3"
  }
 },
 "nbformat": 4,
 "nbformat_minor": 0
}

{
 "cells": [
  {
   "cell_type": "markdown",
   "metadata": {},
   "source": [
    "# Li Ruan"
   ]
  },
  {
   "cell_type": "markdown",
   "metadata": {},
   "source": [
    "Question 1"
   ]
  },
  {
   "cell_type": "code",
   "execution_count": 3,
   "metadata": {
    "collapsed": false
   },
   "outputs": [
    {
     "name": "stdout",
     "output_type": "stream",
     "text": [
      "****\n",
      "*********\n",
      "*******\n",
      "**********\n",
      "***************\n"
     ]
    }
   ],
   "source": [
    "def histogram(a):\n",
    "    for i in range(0,len(a)):\n",
    "        c=''                     #define a blank string \n",
    "        for j in range(0,a[i]):\n",
    "            c=c+'*'              #print * a[i] times\n",
    "        print(c)\n",
    "\n",
    "histogram([4, 9, 7,10,15])"
   ]
  },
  {
   "cell_type": "markdown",
   "metadata": {},
   "source": [
    "Question 2"
   ]
  },
  {
   "cell_type": "code",
   "execution_count": 2,
   "metadata": {
    "collapsed": false
   },
   "outputs": [
    {
     "data": {
      "text/plain": [
       "210"
      ]
     },
     "execution_count": 2,
     "metadata": {},
     "output_type": "execute_result"
    }
   ],
   "source": [
    "def max_in_list(a):\n",
    "    mx=0\n",
    "    for i in range(0,len(a)):\n",
    "        if(mx<a[i]):\n",
    "            mx = a[i]   #always let mx be the largest one \n",
    "            \n",
    "    return mx\n",
    "    \n",
    "max_in_list([4, 9, 7,210,15])"
   ]
  },
  {
   "cell_type": "markdown",
   "metadata": {},
   "source": [
    "Quention 3"
   ]
  },
  {
   "cell_type": "code",
   "execution_count": 1,
   "metadata": {
    "collapsed": false
   },
   "outputs": [
    {
     "name": "stdout",
     "output_type": "stream",
     "text": [
      "[3, 3, 4, 4, 6]\n"
     ]
    }
   ],
   "source": [
    "def maps(a):\n",
    "    b=a\n",
    "    for i in range(0,len(a)):\n",
    "        b[i]=len(a[i])      #Let the number in b is the length of words in a \n",
    "        \n",
    "    print(b)\n",
    "    \n",
    "maps(['re ', 'efe', 'wewq','gegf','dwdwww'])\n",
    "    "
   ]
  },
  {
   "cell_type": "markdown",
   "metadata": {},
   "source": [
    "Question 4"
   ]
  },
  {
   "cell_type": "code",
   "execution_count": 4,
   "metadata": {
    "collapsed": false
   },
   "outputs": [
    {
     "data": {
      "text/plain": [
       "6"
      ]
     },
     "execution_count": 4,
     "metadata": {},
     "output_type": "execute_result"
    }
   ],
   "source": [
    "def find_longest_word(a):\n",
    "    b=0\n",
    "    for i in range(0,len(a)):        # combine question 2&3\n",
    "        if(len(a[i])>b):\n",
    "            b=len(a[i])    # always let b be the largest number in the length of the words in a \n",
    "        \n",
    "    return b;\n",
    "           \n",
    "find_longest_word(['re ', 'efe', 'wewq','gegf','dwdwww'])"
   ]
  },
  {
   "cell_type": "markdown",
   "metadata": {},
   "source": [
    "Question 5"
   ]
  },
  {
   "cell_type": "code",
   "execution_count": 38,
   "metadata": {
    "collapsed": false
   },
   "outputs": [
    {
     "name": "stdout",
     "output_type": "stream",
     "text": [
      "['wewq', 'gegf', 'dwdwww']\n"
     ]
    }
   ],
   "source": [
    "def filter_long_words(a,n):\n",
    "    b=[]\n",
    "    for i in range(0,len(a)):\n",
    "        if(len(a[i])>n):\n",
    "            b.append(a[i])     #add the word a[i] to b\n",
    "            \n",
    "    print(b)\n",
    "    \n",
    "filter_long_words(['re ', 'efe', 'wewq','gegf','dwdwww'],3)"
   ]
  },
  {
   "cell_type": "markdown",
   "metadata": {},
   "source": [
    "Question 6"
   ]
  },
  {
   "cell_type": "code",
   "execution_count": 6,
   "metadata": {
    "collapsed": false
   },
   "outputs": [
    {
     "data": {
      "text/plain": [
       "True"
      ]
     },
     "execution_count": 6,
     "metadata": {},
     "output_type": "execute_result"
    }
   ],
   "source": [
    "def palindromes(a):\n",
    "    a=a.lower()\n",
    "    c=[]\n",
    "    i=1\n",
    "    while i<=26:                   #produce a list of alphabet : abcdefgh``````\n",
    "        c.append(chr(ord('a') + i-1)) \n",
    "        i = i+1\n",
    "    \n",
    "    b=''\n",
    "    l=len(a)-1\n",
    "    while l>=0:                  # record a into a non-upper, non-punctuation, non-spacing list, say b\n",
    "        if(a[l] in c):\n",
    "            b=b+a[l]\n",
    "        l=l-1\n",
    "    if(b==b[::-1]):               # determine if b is palindrome, say true; otherwise, say false\n",
    "        return True\n",
    "    else:\n",
    "        return False\n",
    "palindromes('Sit on a potato pan, Otis')"
   ]
  },
  {
   "cell_type": "markdown",
   "metadata": {
    "collapsed": true
   },
   "source": [
    "Question 7"
   ]
  },
  {
   "cell_type": "code",
   "execution_count": 8,
   "metadata": {
    "collapsed": false
   },
   "outputs": [
    {
     "data": {
      "text/plain": [
       "True"
      ]
     },
     "execution_count": 8,
     "metadata": {},
     "output_type": "execute_result"
    }
   ],
   "source": [
    "def pangram(a):\n",
    "    a=a.lower()\n",
    "    c=[]\n",
    "    i=1\n",
    "    while i<=26:                        #produce a list of alphabet : abcdefgh``````\n",
    "        c.append(chr(ord('a') + i-1))\n",
    "        i = i+1\n",
    "    b = [0]*26\n",
    "    for i in range(0,len(a)):\n",
    "        if(a[i] in c):\n",
    "            b[ord(a[i])-ord('a')] +=1   # if a character occurs, the corresponding location in b will plus 1 \n",
    "    #print(b)           \n",
    "    bl=True\n",
    "    for i in range(0,26):\n",
    "        if(b[i]==0):                     # determine if list b has number 0, if yes, it is false, if not, it is true.\n",
    "            bl=False\n",
    "    return bl\n",
    "pangram('The quick brown fox jumps over the lazy dog')"
   ]
  },
  {
   "cell_type": "markdown",
   "metadata": {},
   "source": [
    "Question 8"
   ]
  },
  {
   "cell_type": "code",
   "execution_count": 48,
   "metadata": {
    "collapsed": false
   },
   "outputs": [
    {
     "name": "stdout",
     "output_type": "stream",
     "text": [
      "99 bottles of coke on the wall, 99 bottles of coke.\n",
      "Take one down, pass it around, 98 bottles of coke on the wall.\n",
      "\n",
      "98 bottles of coke on the wall, 98 bottles of coke.\n",
      "Take one down, pass it around, 97 bottles of coke on the wall.\n",
      "\n",
      "97 bottles of coke on the wall, 97 bottles of coke.\n",
      "Take one down, pass it around, 96 bottles of coke on the wall.\n",
      "\n",
      "96 bottles of coke on the wall, 96 bottles of coke.\n",
      "Take one down, pass it around, 95 bottles of coke on the wall.\n",
      "\n",
      "95 bottles of coke on the wall, 95 bottles of coke.\n",
      "Take one down, pass it around, 94 bottles of coke on the wall.\n",
      "\n",
      "94 bottles of coke on the wall, 94 bottles of coke.\n",
      "Take one down, pass it around, 93 bottles of coke on the wall.\n",
      "\n",
      "93 bottles of coke on the wall, 93 bottles of coke.\n",
      "Take one down, pass it around, 92 bottles of coke on the wall.\n",
      "\n",
      "92 bottles of coke on the wall, 92 bottles of coke.\n",
      "Take one down, pass it around, 91 bottles of coke on the wall.\n",
      "\n",
      "91 bottles of coke on the wall, 91 bottles of coke.\n",
      "Take one down, pass it around, 90 bottles of coke on the wall.\n",
      "\n",
      "90 bottles of coke on the wall, 90 bottles of coke.\n",
      "Take one down, pass it around, 89 bottles of coke on the wall.\n",
      "\n",
      "89 bottles of coke on the wall, 89 bottles of coke.\n",
      "Take one down, pass it around, 88 bottles of coke on the wall.\n",
      "\n",
      "88 bottles of coke on the wall, 88 bottles of coke.\n",
      "Take one down, pass it around, 87 bottles of coke on the wall.\n",
      "\n",
      "87 bottles of coke on the wall, 87 bottles of coke.\n",
      "Take one down, pass it around, 86 bottles of coke on the wall.\n",
      "\n",
      "86 bottles of coke on the wall, 86 bottles of coke.\n",
      "Take one down, pass it around, 85 bottles of coke on the wall.\n",
      "\n",
      "85 bottles of coke on the wall, 85 bottles of coke.\n",
      "Take one down, pass it around, 84 bottles of coke on the wall.\n",
      "\n",
      "84 bottles of coke on the wall, 84 bottles of coke.\n",
      "Take one down, pass it around, 83 bottles of coke on the wall.\n",
      "\n",
      "83 bottles of coke on the wall, 83 bottles of coke.\n",
      "Take one down, pass it around, 82 bottles of coke on the wall.\n",
      "\n",
      "82 bottles of coke on the wall, 82 bottles of coke.\n",
      "Take one down, pass it around, 81 bottles of coke on the wall.\n",
      "\n",
      "81 bottles of coke on the wall, 81 bottles of coke.\n",
      "Take one down, pass it around, 80 bottles of coke on the wall.\n",
      "\n",
      "80 bottles of coke on the wall, 80 bottles of coke.\n",
      "Take one down, pass it around, 79 bottles of coke on the wall.\n",
      "\n",
      "79 bottles of coke on the wall, 79 bottles of coke.\n",
      "Take one down, pass it around, 78 bottles of coke on the wall.\n",
      "\n",
      "78 bottles of coke on the wall, 78 bottles of coke.\n",
      "Take one down, pass it around, 77 bottles of coke on the wall.\n",
      "\n",
      "77 bottles of coke on the wall, 77 bottles of coke.\n",
      "Take one down, pass it around, 76 bottles of coke on the wall.\n",
      "\n",
      "76 bottles of coke on the wall, 76 bottles of coke.\n",
      "Take one down, pass it around, 75 bottles of coke on the wall.\n",
      "\n",
      "75 bottles of coke on the wall, 75 bottles of coke.\n",
      "Take one down, pass it around, 74 bottles of coke on the wall.\n",
      "\n",
      "74 bottles of coke on the wall, 74 bottles of coke.\n",
      "Take one down, pass it around, 73 bottles of coke on the wall.\n",
      "\n",
      "73 bottles of coke on the wall, 73 bottles of coke.\n",
      "Take one down, pass it around, 72 bottles of coke on the wall.\n",
      "\n",
      "72 bottles of coke on the wall, 72 bottles of coke.\n",
      "Take one down, pass it around, 71 bottles of coke on the wall.\n",
      "\n",
      "71 bottles of coke on the wall, 71 bottles of coke.\n",
      "Take one down, pass it around, 70 bottles of coke on the wall.\n",
      "\n",
      "70 bottles of coke on the wall, 70 bottles of coke.\n",
      "Take one down, pass it around, 69 bottles of coke on the wall.\n",
      "\n",
      "69 bottles of coke on the wall, 69 bottles of coke.\n",
      "Take one down, pass it around, 68 bottles of coke on the wall.\n",
      "\n",
      "68 bottles of coke on the wall, 68 bottles of coke.\n",
      "Take one down, pass it around, 67 bottles of coke on the wall.\n",
      "\n",
      "67 bottles of coke on the wall, 67 bottles of coke.\n",
      "Take one down, pass it around, 66 bottles of coke on the wall.\n",
      "\n",
      "66 bottles of coke on the wall, 66 bottles of coke.\n",
      "Take one down, pass it around, 65 bottles of coke on the wall.\n",
      "\n",
      "65 bottles of coke on the wall, 65 bottles of coke.\n",
      "Take one down, pass it around, 64 bottles of coke on the wall.\n",
      "\n",
      "64 bottles of coke on the wall, 64 bottles of coke.\n",
      "Take one down, pass it around, 63 bottles of coke on the wall.\n",
      "\n",
      "63 bottles of coke on the wall, 63 bottles of coke.\n",
      "Take one down, pass it around, 62 bottles of coke on the wall.\n",
      "\n",
      "62 bottles of coke on the wall, 62 bottles of coke.\n",
      "Take one down, pass it around, 61 bottles of coke on the wall.\n",
      "\n",
      "61 bottles of coke on the wall, 61 bottles of coke.\n",
      "Take one down, pass it around, 60 bottles of coke on the wall.\n",
      "\n",
      "60 bottles of coke on the wall, 60 bottles of coke.\n",
      "Take one down, pass it around, 59 bottles of coke on the wall.\n",
      "\n",
      "59 bottles of coke on the wall, 59 bottles of coke.\n",
      "Take one down, pass it around, 58 bottles of coke on the wall.\n",
      "\n",
      "58 bottles of coke on the wall, 58 bottles of coke.\n",
      "Take one down, pass it around, 57 bottles of coke on the wall.\n",
      "\n",
      "57 bottles of coke on the wall, 57 bottles of coke.\n",
      "Take one down, pass it around, 56 bottles of coke on the wall.\n",
      "\n",
      "56 bottles of coke on the wall, 56 bottles of coke.\n",
      "Take one down, pass it around, 55 bottles of coke on the wall.\n",
      "\n",
      "55 bottles of coke on the wall, 55 bottles of coke.\n",
      "Take one down, pass it around, 54 bottles of coke on the wall.\n",
      "\n",
      "54 bottles of coke on the wall, 54 bottles of coke.\n",
      "Take one down, pass it around, 53 bottles of coke on the wall.\n",
      "\n",
      "53 bottles of coke on the wall, 53 bottles of coke.\n",
      "Take one down, pass it around, 52 bottles of coke on the wall.\n",
      "\n",
      "52 bottles of coke on the wall, 52 bottles of coke.\n",
      "Take one down, pass it around, 51 bottles of coke on the wall.\n",
      "\n",
      "51 bottles of coke on the wall, 51 bottles of coke.\n",
      "Take one down, pass it around, 50 bottles of coke on the wall.\n",
      "\n",
      "50 bottles of coke on the wall, 50 bottles of coke.\n",
      "Take one down, pass it around, 49 bottles of coke on the wall.\n",
      "\n",
      "49 bottles of coke on the wall, 49 bottles of coke.\n",
      "Take one down, pass it around, 48 bottles of coke on the wall.\n",
      "\n",
      "48 bottles of coke on the wall, 48 bottles of coke.\n",
      "Take one down, pass it around, 47 bottles of coke on the wall.\n",
      "\n",
      "47 bottles of coke on the wall, 47 bottles of coke.\n",
      "Take one down, pass it around, 46 bottles of coke on the wall.\n",
      "\n",
      "46 bottles of coke on the wall, 46 bottles of coke.\n",
      "Take one down, pass it around, 45 bottles of coke on the wall.\n",
      "\n",
      "45 bottles of coke on the wall, 45 bottles of coke.\n",
      "Take one down, pass it around, 44 bottles of coke on the wall.\n",
      "\n",
      "44 bottles of coke on the wall, 44 bottles of coke.\n",
      "Take one down, pass it around, 43 bottles of coke on the wall.\n",
      "\n",
      "43 bottles of coke on the wall, 43 bottles of coke.\n",
      "Take one down, pass it around, 42 bottles of coke on the wall.\n",
      "\n",
      "42 bottles of coke on the wall, 42 bottles of coke.\n",
      "Take one down, pass it around, 41 bottles of coke on the wall.\n",
      "\n",
      "41 bottles of coke on the wall, 41 bottles of coke.\n",
      "Take one down, pass it around, 40 bottles of coke on the wall.\n",
      "\n",
      "40 bottles of coke on the wall, 40 bottles of coke.\n",
      "Take one down, pass it around, 39 bottles of coke on the wall.\n",
      "\n",
      "39 bottles of coke on the wall, 39 bottles of coke.\n",
      "Take one down, pass it around, 38 bottles of coke on the wall.\n",
      "\n",
      "38 bottles of coke on the wall, 38 bottles of coke.\n",
      "Take one down, pass it around, 37 bottles of coke on the wall.\n",
      "\n",
      "37 bottles of coke on the wall, 37 bottles of coke.\n",
      "Take one down, pass it around, 36 bottles of coke on the wall.\n",
      "\n",
      "36 bottles of coke on the wall, 36 bottles of coke.\n",
      "Take one down, pass it around, 35 bottles of coke on the wall.\n",
      "\n",
      "35 bottles of coke on the wall, 35 bottles of coke.\n",
      "Take one down, pass it around, 34 bottles of coke on the wall.\n",
      "\n",
      "34 bottles of coke on the wall, 34 bottles of coke.\n",
      "Take one down, pass it around, 33 bottles of coke on the wall.\n",
      "\n",
      "33 bottles of coke on the wall, 33 bottles of coke.\n",
      "Take one down, pass it around, 32 bottles of coke on the wall.\n",
      "\n",
      "32 bottles of coke on the wall, 32 bottles of coke.\n",
      "Take one down, pass it around, 31 bottles of coke on the wall.\n",
      "\n",
      "31 bottles of coke on the wall, 31 bottles of coke.\n",
      "Take one down, pass it around, 30 bottles of coke on the wall.\n",
      "\n",
      "30 bottles of coke on the wall, 30 bottles of coke.\n",
      "Take one down, pass it around, 29 bottles of coke on the wall.\n",
      "\n",
      "29 bottles of coke on the wall, 29 bottles of coke.\n",
      "Take one down, pass it around, 28 bottles of coke on the wall.\n",
      "\n",
      "28 bottles of coke on the wall, 28 bottles of coke.\n",
      "Take one down, pass it around, 27 bottles of coke on the wall.\n",
      "\n",
      "27 bottles of coke on the wall, 27 bottles of coke.\n",
      "Take one down, pass it around, 26 bottles of coke on the wall.\n",
      "\n",
      "26 bottles of coke on the wall, 26 bottles of coke.\n",
      "Take one down, pass it around, 25 bottles of coke on the wall.\n",
      "\n",
      "25 bottles of coke on the wall, 25 bottles of coke.\n",
      "Take one down, pass it around, 24 bottles of coke on the wall.\n",
      "\n",
      "24 bottles of coke on the wall, 24 bottles of coke.\n",
      "Take one down, pass it around, 23 bottles of coke on the wall.\n",
      "\n",
      "23 bottles of coke on the wall, 23 bottles of coke.\n",
      "Take one down, pass it around, 22 bottles of coke on the wall.\n",
      "\n",
      "22 bottles of coke on the wall, 22 bottles of coke.\n",
      "Take one down, pass it around, 21 bottles of coke on the wall.\n",
      "\n",
      "21 bottles of coke on the wall, 21 bottles of coke.\n",
      "Take one down, pass it around, 20 bottles of coke on the wall.\n",
      "\n",
      "20 bottles of coke on the wall, 20 bottles of coke.\n",
      "Take one down, pass it around, 19 bottles of coke on the wall.\n",
      "\n",
      "19 bottles of coke on the wall, 19 bottles of coke.\n",
      "Take one down, pass it around, 18 bottles of coke on the wall.\n",
      "\n",
      "18 bottles of coke on the wall, 18 bottles of coke.\n",
      "Take one down, pass it around, 17 bottles of coke on the wall.\n",
      "\n",
      "17 bottles of coke on the wall, 17 bottles of coke.\n",
      "Take one down, pass it around, 16 bottles of coke on the wall.\n",
      "\n",
      "16 bottles of coke on the wall, 16 bottles of coke.\n",
      "Take one down, pass it around, 15 bottles of coke on the wall.\n",
      "\n",
      "15 bottles of coke on the wall, 15 bottles of coke.\n",
      "Take one down, pass it around, 14 bottles of coke on the wall.\n",
      "\n",
      "14 bottles of coke on the wall, 14 bottles of coke.\n",
      "Take one down, pass it around, 13 bottles of coke on the wall.\n",
      "\n",
      "13 bottles of coke on the wall, 13 bottles of coke.\n",
      "Take one down, pass it around, 12 bottles of coke on the wall.\n",
      "\n",
      "12 bottles of coke on the wall, 12 bottles of coke.\n",
      "Take one down, pass it around, 11 bottles of coke on the wall.\n",
      "\n",
      "11 bottles of coke on the wall, 11 bottles of coke.\n",
      "Take one down, pass it around, 10 bottles of coke on the wall.\n",
      "\n",
      "10 bottles of coke on the wall, 10 bottles of coke.\n",
      "Take one down, pass it around, 9 bottles of coke on the wall.\n",
      "\n",
      "9 bottles of coke on the wall, 9 bottles of coke.\n",
      "Take one down, pass it around, 8 bottles of coke on the wall.\n",
      "\n",
      "8 bottles of coke on the wall, 8 bottles of coke.\n",
      "Take one down, pass it around, 7 bottles of coke on the wall.\n",
      "\n",
      "7 bottles of coke on the wall, 7 bottles of coke.\n",
      "Take one down, pass it around, 6 bottles of coke on the wall.\n",
      "\n",
      "6 bottles of coke on the wall, 6 bottles of coke.\n",
      "Take one down, pass it around, 5 bottles of coke on the wall.\n",
      "\n",
      "5 bottles of coke on the wall, 5 bottles of coke.\n",
      "Take one down, pass it around, 4 bottles of coke on the wall.\n",
      "\n",
      "4 bottles of coke on the wall, 4 bottles of coke.\n",
      "Take one down, pass it around, 3 bottles of coke on the wall.\n",
      "\n",
      "3 bottles of coke on the wall, 3 bottles of coke.\n",
      "Take one down, pass it around, 2 bottles of coke on the wall.\n",
      "\n",
      "2 bottles of coke on the wall, 2 bottles of coke.\n",
      "Take one down, pass it around, 1 bottles of coke on the wall.\n",
      "\n",
      "1 bottles of coke on the wall, 1 bottles of coke.\n",
      "Take one down, pass it around, 0 bottles of coke on the wall.\n",
      "\n"
     ]
    }
   ],
   "source": [
    "i = 99\n",
    "while i>=1:\n",
    "    print(str(i)+ ' bottles of coke on the wall, '+str(i)+' bottles of coke.')\n",
    "    i -= 1      # use loop to make the long verses\n",
    "    print('Take one down, pass it around, '+str(i)+' bottles of coke on the wall.'+'\\n')\n",
    "    \n",
    "    "
   ]
  },
  {
   "cell_type": "markdown",
   "metadata": {},
   "source": [
    "Question 9"
   ]
  },
  {
   "cell_type": "code",
   "execution_count": 13,
   "metadata": {
    "collapsed": false
   },
   "outputs": [
    {
     "data": {
      "text/plain": [
       "'god jul och gott nytt år '"
      ]
     },
     "execution_count": 13,
     "metadata": {},
     "output_type": "execute_result"
    }
   ],
   "source": [
    "def translate(l):\n",
    "    a = {\"merry\":\"god\", \"christmas\":\"jul\", \"and\":\"och\", \"happy\":\"gott\", \"new\":\"nytt\", \"year\":\"år\"}  # define a dictionary\n",
    "    c = ''\n",
    "    for i in range(0,len(l)):\n",
    "        c = c + a[l[i]]+\" \"  #let c be the translated words\n",
    "    return c\n",
    "translate(['merry','christmas','and','happy','new','year'])\n",
    "\n",
    "\n"
   ]
  },
  {
   "cell_type": "markdown",
   "metadata": {},
   "source": [
    "Question 10"
   ]
  },
  {
   "cell_type": "code",
   "execution_count": 15,
   "metadata": {
    "collapsed": false
   },
   "outputs": [
    {
     "data": {
      "text/plain": [
       "{'a': 7,\n",
       " 'b': 14,\n",
       " 'c': 3,\n",
       " 'd': 3,\n",
       " 'e': 0,\n",
       " 'f': 0,\n",
       " 'g': 0,\n",
       " 'h': 0,\n",
       " 'i': 0,\n",
       " 'j': 0,\n",
       " 'k': 0,\n",
       " 'l': 0,\n",
       " 'm': 0,\n",
       " 'n': 0,\n",
       " 'o': 0,\n",
       " 'p': 0,\n",
       " 'q': 0,\n",
       " 'r': 0,\n",
       " 's': 0,\n",
       " 't': 0,\n",
       " 'u': 0,\n",
       " 'v': 0,\n",
       " 'w': 0,\n",
       " 'x': 0,\n",
       " 'y': 0,\n",
       " 'z': 0}"
      ]
     },
     "execution_count": 15,
     "metadata": {},
     "output_type": "execute_result"
    }
   ],
   "source": [
    "def char_freq(a):          # the principle is similar to question 7\n",
    "    a=a.lower()\n",
    "    c=[]\n",
    "    i=1\n",
    "    while i<=26:          \n",
    "        c.append(chr(ord('a') + i-1))\n",
    "        i = i+1\n",
    "    b = [0]*26\n",
    "    for i in range(0,len(a)):\n",
    "        if(a[i] in c):\n",
    "            b[ord(a[i])-ord('a')] +=1\n",
    "    d = {}\n",
    "    for i in range(0,26):\n",
    "        d[c[i]]=b[i]\n",
    "    return d\n",
    "\n",
    "char_freq(\"abbabcbdbabdbdbabababcbcbab\")"
   ]
  },
  {
   "cell_type": "code",
   "execution_count": null,
   "metadata": {
    "collapsed": true
   },
   "outputs": [],
   "source": []
  },
  {
   "cell_type": "markdown",
   "metadata": {},
   "source": [
    "Question 11"
   ]
  },
  {
   "cell_type": "code",
   "execution_count": 24,
   "metadata": {
    "collapsed": false
   },
   "outputs": [
    {
     "data": {
      "text/plain": [
       "'qrqqr'"
      ]
     },
     "execution_count": 24,
     "metadata": {},
     "output_type": "execute_result"
    }
   ],
   "source": [
    "def encoder(a):\n",
    "    key = {'a':'n', 'b':'o', 'c':'p', 'd':'q', 'e':'r', 'f':'s', 'g':'t', 'h':'u', 'i':'v', 'j':'w', 'k':'x', 'l':'y', 'm':'z', 'n':'a', 'o':'b', 'p':'c', 'q':'d', 'r':'e', 's':'f', 't':'g', 'u':'h', 'v':'i', 'w':'j', 'x':'k', 'y':'l', 'z':'m', 'A':'N', 'B':'O', 'C':'P', 'D':'Q', 'E':'R', 'F':'S', 'G':'T', 'H':'U', 'I':'V', 'J':'W', 'K':'X', 'L':'Y', 'M':'Z', 'N':'A', 'O':'B', 'P':'C', 'Q':'D', 'R':'E', 'S':'F', 'T':'G', 'U':'H', 'V':'I', 'W':'J', 'X':'K', 'Y':'L', 'Z':'M'}\n",
    "    c = ''\n",
    "    for i in range(0,len(a)):\n",
    "        if(a[i] in key):\n",
    "            c = c + key[a[i]]\n",
    "        else:\n",
    "            c = c + a[i]\n",
    "    return c\n",
    "\n",
    "\n",
    "\n",
    "\n",
    "\n",
    "decoder(\"dedde\")"
   ]
  },
  {
   "cell_type": "code",
   "execution_count": 23,
   "metadata": {
    "collapsed": false
   },
   "outputs": [
    {
     "data": {
      "text/plain": [
       "'Caesar cipher? I much prefer Caesar salad!'"
      ]
     },
     "execution_count": 23,
     "metadata": {},
     "output_type": "execute_result"
    }
   ],
   "source": [
    "def decoder(a):\n",
    "    k1={}\n",
    "    c=''\n",
    "    key = {'a':'n', 'b':'o', 'c':'p', 'd':'q', 'e':'r', 'f':'s', 'g':'t', 'h':'u', 'i':'v', 'j':'w', 'k':'x', 'l':'y', 'm':'z', 'n':'a', 'o':'b', 'p':'c', 'q':'d', 'r':'e', 's':'f', 't':'g', 'u':'h', 'v':'i', 'w':'j', 'x':'k', 'y':'l', 'z':'m', 'A':'N', 'B':'O', 'C':'P', 'D':'Q', 'E':'R', 'F':'S', 'G':'T', 'H':'U', 'I':'V', 'J':'W', 'K':'X', 'L':'Y', 'M':'Z', 'N':'A', 'O':'B', 'P':'C', 'Q':'D', 'R':'E', 'S':'F', 'T':'G', 'U':'H', 'V':'I', 'W':'J', 'X':'K', 'Y':'L', 'Z':'M'}\n",
    "    for i,j in key.items():\n",
    "        k1[j]=i\n",
    "    for i in range(0,len(a)):\n",
    "        if(a[i] in k1):\n",
    "            c = c + k1[a[i]]\n",
    "        else:\n",
    "            c = c + a[i]\n",
    "    return c\n",
    "decoder('Pnrfne pvcure? V zhpu cersre Pnrfne fnynq!')"
   ]
  },
  {
   "cell_type": "markdown",
   "metadata": {},
   "source": [
    "Question 12"
   ]
  },
  {
   "cell_type": "code",
   "execution_count": 14,
   "metadata": {
    "collapsed": false
   },
   "outputs": [
    {
     "data": {
      "text/plain": [
       "'This is very funny and cool. Indeed!'"
      ]
     },
     "execution_count": 14,
     "metadata": {},
     "output_type": "execute_result"
    }
   ],
   "source": [
    "def correct(a):\n",
    "    l = len(a)\n",
    "    while l >= 0:\n",
    "        l = l - 1\n",
    "        if(a[l]==' ' and a[l-1]==' '):  # replace the first '  ' into ' '\n",
    "            a = a.replace('  ', ' ', 1)\n",
    "            \n",
    "        elif a[l]=='.' and a[l+1]!=' ':  # replace the first '.' into '. '\n",
    "            a = a.replace('.', '. ', 1)\n",
    "    return a\n",
    "correct(\"This  is very funny and  cool.Indeed!\")"
   ]
  },
  {
   "cell_type": "markdown",
   "metadata": {},
   "source": [
    "Question 13"
   ]
  },
  {
   "cell_type": "code",
   "execution_count": 63,
   "metadata": {
    "collapsed": false
   },
   "outputs": [
    {
     "data": {
      "text/plain": [
       "'fixes'"
      ]
     },
     "execution_count": 63,
     "metadata": {},
     "output_type": "execute_result"
    }
   ],
   "source": [
    "def make_3sg_form(a):\n",
    "    if(a.endswith('y')):\n",
    "        a = a[:len(a)-1]+'ies'   # if word end with y, eliminate y and add 'ies'\n",
    "    elif(a.endswith('o')|a.endswith('ch')|a.endswith('s')|a.endswith('sh')|a.endswith('x')|a.endswith('z')):\n",
    "        a = a + 'es'           # if word end in the ways above, add 'es'\n",
    "    else:\n",
    "        a = a + 's'\n",
    "    return a\n",
    "\n",
    "make_3sg_form('fix')"
   ]
  },
  {
   "cell_type": "markdown",
   "metadata": {},
   "source": [
    "Question 14"
   ]
  },
  {
   "cell_type": "code",
   "execution_count": 92,
   "metadata": {
    "collapsed": false
   },
   "outputs": [
    {
     "data": {
      "text/plain": [
       "'badding'"
      ]
     },
     "execution_count": 92,
     "metadata": {},
     "output_type": "execute_result"
    }
   ],
   "source": [
    " # It is a more complicated case of question 13. This time we will distinguish more cases.\n",
    "def myVol(a):  \n",
    "    a = a.lower()\n",
    "    if a == 'a'or a=='e'or a=='i'or a=='o'or a=='u':\n",
    "        return True\n",
    "    else:\n",
    "        return False\n",
    "    \n",
    "def make_ing_form(a):\n",
    "    if(a=='be'or a=='see'or a=='flee'or a=='knee'):\n",
    "        a = a + 'ing'\n",
    "    elif(myVol(a[len(a)-1])==False and myVol(a[len(a)-2])==True and myVol(a[len(a)-3])==False):\n",
    "        a = a + a[len(a)-1]+'ing'   \n",
    "        #For words consisting of consonant-vowel-consonant, double the final letter before adding ing\n",
    "\n",
    "    elif(a.endswith('ie')):\n",
    "        a = a[:len(a)-2]+'ying'\n",
    "        #If the verb ends in ie, change ie to y and add ing\n",
    "        \n",
    "    elif(a.endswith('e')):\n",
    "        a = a[:len(a)-1]+'ing'\n",
    "        #If the verb ends in e, drop the e and add ing\n",
    "        \n",
    "    else:\n",
    "         a = a+'ing'\n",
    "    return a\n",
    "    #print(myVol(a[len(a)-1]), a[len(a)-2])\n",
    "    \n",
    "make_ing_form('bad')\n",
    "#myVol('d')"
   ]
  },
  {
   "cell_type": "code",
   "execution_count": null,
   "metadata": {
    "collapsed": true
   },
   "outputs": [],
   "source": []
  },
  {
   "cell_type": "code",
   "execution_count": null,
   "metadata": {
    "collapsed": true
   },
   "outputs": [],
   "source": []
  }
 ],
 "metadata": {
  "kernelspec": {
   "display_name": "Python 3",
   "language": "python",
   "name": "python3"
  },
  "language_info": {
   "codemirror_mode": {
    "name": "ipython",
    "version": 3
   },
   "file_extension": ".py",
   "mimetype": "text/x-python",
   "name": "python",
   "nbconvert_exporter": "python",
   "pygments_lexer": "ipython3",
   "version": "3.4.3"
  }
 },
 "nbformat": 4,
 "nbformat_minor": 0
}

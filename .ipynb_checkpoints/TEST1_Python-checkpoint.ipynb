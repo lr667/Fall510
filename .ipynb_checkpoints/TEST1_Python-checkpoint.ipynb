{
 "cells": [
  {
   "cell_type": "markdown",
   "metadata": {},
   "source": [
    "# polygperim"
   ]
  },
  {
   "cell_type": "code",
   "execution_count": 10,
   "metadata": {
    "collapsed": false
   },
   "outputs": [
    {
     "name": "stdout",
     "output_type": "stream",
     "text": [
      "48.0\n",
      "51.0\n",
      "59.999986012497544\n",
      "59.999986012497544\n"
     ]
    }
   ],
   "source": [
    "import math \n",
    "# Import math module so that I can use math function such as calculate square root.\n",
    "def polygperim(coords):\n",
    "    '''\n",
    "    In this function, if the user input a list of vertices, denote as (x,y), it will calculate and compute the \n",
    "    perimeter of the polygon which is bounded by the vertices (x,y).\n",
    "    \n",
    "    Input: a list of coordinates (pairs of x,y), we say 'coords' in this function.\n",
    "           For example, if we input [(-10,-2),(2,-2),(2,10),(-10,10)]. \n",
    "           It is a four vertices given of a square in order. \n",
    "    \n",
    "    In the calculation procedure, I will use the Pythagorean theorem to claculate the length of every side.\n",
    "    For example, between (a,b) and (c,d), I can calculate the length = ((a-c)^2+(b-d)^2)^0.5\n",
    "    \n",
    "    Output: the value of the perimeter of the polygon bounded by 'coords'.\n",
    "    \n",
    "    Additionally, to make things go easier, in this function, the coordinates in the list must can be in clockwise\n",
    "    or counterclockwise order. Otherwise, this function may turn to an error.\n",
    "    \n",
    "    '''\n",
    "    \n",
    "    p = 0   \n",
    "# Define a variable to record perimeter, and set the initial value is 0.\n",
    "    for i in range(0,len(coords)):\n",
    "    # Let i loop from 0 to (the length of the list 'coords'-1) to go through every pair of (x,y).\n",
    "        if(i == 0):\n",
    "            p = math.sqrt(math.pow(coords[0][0]-coords[len(coords)-1][0],2)+math.pow(coords[0][1]-coords[len(coords)-1][1],2))\n",
    "        # Consider the length between the first point and the last point.\n",
    "        # I use the Pythagorean theorem to calculate the length.\n",
    "        # The way is just as I state in the doc header comments: the length = ((a-c)^2+(b-d)^2)^0.5.\n",
    "        # Pattern math.sqrt() is to square what I calculate in the ().\n",
    "        # Pattern math.pow(a,b) is to calculate a^b.\n",
    "        \n",
    "        else:\n",
    "            p=p+math.sqrt(math.pow(coords[i][0]-coords[i-1][0],2)+math.pow(coords[i][1]-coords[i-1][1],2))\n",
    "        # Calculate each other length of side one by one, except the length bettwen the original and last points.\n",
    "        # In this step, I calculate the length between a point and its previous one, \n",
    "        # and when the points go through every points except the first one, all other length of side have been added together.\n",
    "        # Use variable p to record the sum of every length of side.\n",
    "        \n",
    "    return p  # Print the calculated value p which means the perimeter of the polygon.\n",
    "    \n",
    "\n",
    "#Test1: square\n",
    "\n",
    "print(polygperim([(-10,-2),(2,-2),(2,10),(-10,10)])) \n",
    "# Try to test the function polygperim() by a list of vertices given of a square in order: [(-10,-2),(2,-2),(2,10),(-10,10)]\n",
    "\n",
    "print(polygperim([(-10.5,-2),(2.5,-2),(2.5,10.5),(-10.5,10.5)]))\n",
    "# Try to test the function polygperim() by a list of vertices given of a square in order: [(-10.5,-2),(2.5,-2),(2.5,10.5),(-10.5,10.5)]\n",
    "\n",
    "#Test2: equilateral triangle\n",
    "\n",
    "print(polygperim([(-10,0),(10,0),(0,17.3205)]))\n",
    "# Try to test the function polygperim() by a list of vertices given of an equilateral triangle in order: [(-10,0),(10,0),(0,17.3205)]\n",
    "\n",
    "print(polygperim([(-10,-10),(10,-10),(0,7.3205)]))\n",
    "# Try to test the function polygperim() by a list of vertices given of an equilateral triangle in order: [(-10,-10),(10,-10),(0,7.3205)]"
   ]
  },
  {
   "cell_type": "markdown",
   "metadata": {},
   "source": [
    "# polygarea"
   ]
  },
  {
   "cell_type": "code",
   "execution_count": 2,
   "metadata": {
    "collapsed": false
   },
   "outputs": [
    {
     "name": "stdout",
     "output_type": "stream",
     "text": [
      "144.0\n",
      "162.5\n",
      "173.20499999999998\n",
      "173.20499999999998\n"
     ]
    }
   ],
   "source": [
    "import math\n",
    "def polygarea(coords):\n",
    "    '''\n",
    "    In this function, if the user input a list of vertices, denote as (x,y), it will compute the \n",
    "    area of the polygon which is bounded by the vertices (x,y).\n",
    "    \n",
    "    Input: a list of coordinates (pairs of x,y), we say 'coords' in this function.\n",
    "           For example, if we input [(-10,-2),(2,-2),(2,10),(-10,10)]. \n",
    "           It is a four vertices given of a square in order. \n",
    "    \n",
    "    In the calculation procedure, I will use the given formula to calculate the area of the polygon.\n",
    "    \n",
    "    Output: the value of the area of the polygon bounded by 'coords'.\n",
    "    \n",
    "    Additionally, to make things go easier, in this function, the coordinates in the list must can be in clockwise\n",
    "    or counterclockwise order. Otherwise, this function may turn to an error.\n",
    "    \n",
    "    '''\n",
    "    a = 0\n",
    "# Define a variable to record area, and set the initial area value is 0.\n",
    "    for i in range(0,len(coords)):\n",
    "    # Let i loop from 0 to (the length of the list 'coords'-1) to go through every pair of (x,y).\n",
    "        if(i == 0):\n",
    "            a = coords[len(coords)-1][0]*coords[0][1]-coords[0][0]*coords[len(coords)-1][1]\n",
    "        # In this case, we consider the case of first point and the last point.\n",
    "        # n is the number of polygon vertices, by definition, Xn+1=X1, Yn+1=Y1 \n",
    "        # (In these comments, I use upper case just to make it easier to see, it should be lower case)\n",
    "        # More details are as following.\n",
    "        else:\n",
    "            a = a + coords[i-1][0] * coords[i][1] - coords[i][0] * coords[i-1][1]\n",
    "        # coords[i-1][0] * coords[i][1] is what we denote as (Xi-1)*Yi\n",
    "        # coords[i][0] * coords[i-1][1] is what we denote as Xi*(Yi-1)\n",
    "        # Use variable a to record the sum of (Xi-1)*Yi-Xi*(Yi-1) when i loop from 1 to n to go through every point.\n",
    "        # n is the number of polygon vertices. \n",
    "        a = abs(a)  # Calculate the absolute value of a.\n",
    "    return 0.5*a   # print the half value of a to get the finally value of area.\n",
    "    \n",
    "\n",
    "#Test1: square\n",
    "\n",
    "print(polygarea([(-10,-2),(2,-2),(2,10),(-10,10)]))\n",
    "# Try to test the function polygarea() by a list of vertices given of a square in order: [(-10,-2),(2,-2),(2,10),(-10,10)]\n",
    "\n",
    "print(polygarea([(-10.5,-2),(2.5,-2),(2.5,10.5),(-10.5,10.5)]))\n",
    "# Try to test the function polygarea() by a list of vertices given of a square in order: [(-10.5,-2),(2.5,-2),(2.5,10.5),(-10.5,10.5)]\n",
    "\n",
    "#Test2: equilateral triangle\n",
    "\n",
    "print(polygarea([(-10,0),(10,0),(0,17.3205)]))\n",
    "# Try to test the function polygarea() by a list of vertices given of an equilateral triangle in order: [(-10,0),(10,0),(0,17.3205)]\n",
    "\n",
    "print(polygarea([(-10,-10),(10,-10),(0,7.3205)]))\n",
    "# Try to test the function polygarea() by a list of vertices given of an equilateral triangle in order: [(-10,-10),(10,-10),(0,7.3205)]"
   ]
  },
  {
   "cell_type": "code",
   "execution_count": null,
   "metadata": {
    "collapsed": true
   },
   "outputs": [],
   "source": []
  },
  {
   "cell_type": "code",
   "execution_count": null,
   "metadata": {
    "collapsed": true
   },
   "outputs": [],
   "source": []
  }
 ],
 "metadata": {
  "kernelspec": {
   "display_name": "Python 3",
   "language": "python",
   "name": "python3"
  },
  "language_info": {
   "codemirror_mode": {
    "name": "ipython",
    "version": 3
   },
   "file_extension": ".py",
   "mimetype": "text/x-python",
   "name": "python",
   "nbconvert_exporter": "python",
   "pygments_lexer": "ipython3",
   "version": "3.4.3"
  }
 },
 "nbformat": 4,
 "nbformat_minor": 0
}

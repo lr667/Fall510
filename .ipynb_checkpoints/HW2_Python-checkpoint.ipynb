{
 "cells": [
  {
   "cell_type": "code",
   "execution_count": 2,
   "metadata": {
    "collapsed": false
   },
   "outputs": [
    {
     "name": "stdout",
     "output_type": "stream",
     "text": [
      "0\n",
      "1\n",
      "1\n",
      "2\n",
      "3\n",
      "5\n",
      "8\n",
      "13\n",
      "21\n",
      "34\n",
      "55\n",
      "89\n",
      "\n",
      "\n",
      "0\n",
      "1\n",
      "1\n",
      "2\n",
      "3\n",
      "5\n",
      "8\n",
      "13\n",
      "21\n",
      "34\n",
      "55\n",
      "89\n"
     ]
    }
   ],
   "source": [
    "#1 The first solution of qiestion 1.\n",
    "def fib1(n):\n",
    "    a = 0\n",
    "    b = 1\n",
    "\n",
    "    while b < n:\n",
    "        print(a)\n",
    "        print(b)\n",
    "        a += b\n",
    "        b += a\n",
    "   \n",
    "    if a < n:\n",
    "        print(a)\n",
    "\n",
    "fib1(100)\n",
    "\n",
    "print('\\n')\n",
    "\n",
    "#1 The second solution of question 1.\n",
    "def fib2(n):\n",
    "    a = 0\n",
    "    b = 1\n",
    "    while a < n:\n",
    "        print(a)\n",
    "        a = a + b\n",
    "        temp = a\n",
    "        a = b\n",
    "        b = temp\n",
    "fib2(100)\n",
    "    "
   ]
  },
  {
   "cell_type": "code",
   "execution_count": 3,
   "metadata": {
    "collapsed": false
   },
   "outputs": [
    {
     "data": {
      "text/plain": [
       "45"
      ]
     },
     "execution_count": 3,
     "metadata": {},
     "output_type": "execute_result"
    }
   ],
   "source": [
    "# question 2.\n",
    "def mymax(m,n):\n",
    "    if m > n:\n",
    "        return (m)\n",
    "    else:\n",
    "        return (n)\n",
    "    \n",
    "mymax(23,45)"
   ]
  },
  {
   "cell_type": "code",
   "execution_count": 4,
   "metadata": {
    "collapsed": false
   },
   "outputs": [
    {
     "data": {
      "text/plain": [
       "33"
      ]
     },
     "execution_count": 4,
     "metadata": {},
     "output_type": "execute_result"
    }
   ],
   "source": [
    "# question 3.\n",
    "def max_of_three(a,b,c):\n",
    "    if a >= b and a >= c:\n",
    "        return a\n",
    "    if b > a and b >= c:\n",
    "        return b\n",
    "    else:\n",
    "        return c\n",
    "    \n",
    "max_of_three(10,33,23)    "
   ]
  },
  {
   "cell_type": "code",
   "execution_count": 9,
   "metadata": {
    "collapsed": false
   },
   "outputs": [
    {
     "data": {
      "text/plain": [
       "7"
      ]
     },
     "execution_count": 9,
     "metadata": {},
     "output_type": "execute_result"
    }
   ],
   "source": [
    "# question 4.\n",
    "def mylen(a):\n",
    "    if a == '':\n",
    "        return 0\n",
    "    else:\n",
    "        return 1 + mylen(a[1:])\n",
    "    \n",
    "mylen(\"de dede\")"
   ]
  },
  {
   "cell_type": "code",
   "execution_count": 7,
   "metadata": {
    "collapsed": false
   },
   "outputs": [
    {
     "data": {
      "text/plain": [
       "True"
      ]
     },
     "execution_count": 7,
     "metadata": {},
     "output_type": "execute_result"
    }
   ],
   "source": [
    "# question 5.\n",
    "def myVol(a):\n",
    "    a = a.lower()\n",
    "    if a == 'a'or'e'or'i'or'o'or'u':\n",
    "        return True\n",
    "    else:\n",
    "        return False\n",
    "    \n",
    "myVol('O')\n"
   ]
  },
  {
   "cell_type": "code",
   "execution_count": 8,
   "metadata": {
    "collapsed": false
   },
   "outputs": [
    {
     "data": {
      "text/plain": [
       "'HoHelollolo WoWororloldod'"
      ]
     },
     "execution_count": 8,
     "metadata": {},
     "output_type": "execute_result"
    }
   ],
   "source": [
    "#question 6.\n",
    "def myTrans(a):\n",
    "    #import string\n",
    "    i = 1\n",
    "    while i<=26:\n",
    "        c = chr(ord('a') + i-1)\n",
    "        i = i+1\n",
    "        if c!='a' and c!='e' and c!='i' and c!='o' and c!='u':\n",
    "            a=a.replace(c,c+'o'+c)\n",
    "            \n",
    "    i = 1\n",
    "    while i<=26:\n",
    "        c = chr(ord('A') + i-1)\n",
    "        i = i+1\n",
    "        if c!='A' and c!='E' and c!='I' and c!='O' and c!='U':\n",
    "            a=a.replace(c,c+'o'+c)\n",
    "    return a\n",
    "\n",
    "myTrans(\"Hello World\")\n",
    "        \n",
    "        \n"
   ]
  },
  {
   "cell_type": "code",
   "execution_count": 10,
   "metadata": {
    "collapsed": false
   },
   "outputs": [
    {
     "data": {
      "text/plain": [
       "14"
      ]
     },
     "execution_count": 10,
     "metadata": {},
     "output_type": "execute_result"
    }
   ],
   "source": [
    "#question 7-1.\n",
    "def sum(a):\n",
    "    l = len(a)\n",
    "    i = 0\n",
    "    sum = 0\n",
    "    while i < l:\n",
    "        sum = sum + a[i]\n",
    "        i += 1\n",
    "    return sum\n",
    "        \n",
    "        \n",
    "sum([1,3,4,6])\n",
    "\n",
    "\n"
   ]
  },
  {
   "cell_type": "code",
   "execution_count": 3,
   "metadata": {
    "collapsed": false
   },
   "outputs": [
    {
     "data": {
      "text/plain": [
       "72"
      ]
     },
     "execution_count": 3,
     "metadata": {},
     "output_type": "execute_result"
    }
   ],
   "source": [
    "#question 7-2\n",
    "def multiply(a):\n",
    "    l = len(a)\n",
    "    i = 0\n",
    "    pro = 1\n",
    "    while i<l:\n",
    "        pro = pro * a[i]\n",
    "        i += 1\n",
    "    return pro\n",
    "        \n",
    "        \n",
    "multiply([1,3,4,6])"
   ]
  },
  {
   "cell_type": "code",
   "execution_count": 11,
   "metadata": {
    "collapsed": false
   },
   "outputs": [
    {
     "data": {
      "text/plain": [
       "'gnitset ma I'"
      ]
     },
     "execution_count": 11,
     "metadata": {},
     "output_type": "execute_result"
    }
   ],
   "source": [
    "#question 8.\n",
    "def reverse(a):\n",
    "    l = len(a)\n",
    "    i = l-1\n",
    "    c = \"\"\n",
    "    while i>=0:\n",
    "        c = c + a[i]\n",
    "        i = i-1\n",
    "    return c\n",
    "\n",
    "reverse(\"I am testing\")"
   ]
  },
  {
   "cell_type": "code",
   "execution_count": 12,
   "metadata": {
    "collapsed": false
   },
   "outputs": [
    {
     "data": {
      "text/plain": [
       "True"
      ]
     },
     "execution_count": 12,
     "metadata": {},
     "output_type": "execute_result"
    }
   ],
   "source": [
    "#question 9.\n",
    "def is_palindrome(a):\n",
    "    l = len(a)\n",
    "    i = l-1\n",
    "    c = \"\"\n",
    "    while i>=0:\n",
    "        c = c + a[i]\n",
    "        i = i-1\n",
    "    if(c==a):\n",
    "        return True\n",
    "    else:\n",
    "        return False\n",
    "    \n",
    "is_palindrome(\"radar\")"
   ]
  },
  {
   "cell_type": "code",
   "execution_count": 14,
   "metadata": {
    "collapsed": false
   },
   "outputs": [
    {
     "data": {
      "text/plain": [
       "False"
      ]
     },
     "execution_count": 14,
     "metadata": {},
     "output_type": "execute_result"
    }
   ],
   "source": [
    "#question 10.\n",
    "def is_member(x,a):\n",
    "    l = len(a)\n",
    "    i = 0\n",
    "    c = False\n",
    "    while i<l:\n",
    "        if x==a[i]:\n",
    "            c = True\n",
    "        i += 1\n",
    "    return c\n",
    "\n",
    "is_member(3,[9,5,7,0,9])\n",
    "    "
   ]
  },
  {
   "cell_type": "code",
   "execution_count": 15,
   "metadata": {
    "collapsed": false
   },
   "outputs": [
    {
     "data": {
      "text/plain": [
       "True"
      ]
     },
     "execution_count": 15,
     "metadata": {},
     "output_type": "execute_result"
    }
   ],
   "source": [
    "#question 11.\n",
    "def overlapping(a1,a2):\n",
    "    l1 = len(a1)\n",
    "    l2 = len(a2)\n",
    "    c = False\n",
    "    i = 0\n",
    "    j = 0\n",
    "    for i in range(0,l1):\n",
    "        for j in range(0,l2):\n",
    "            if a1[i]==a2[j]:\n",
    "                c = True\n",
    "    return c\n",
    "\n",
    "overlapping([1,2,5,8],[3,6,7,5,0,9,10,3])\n",
    "            "
   ]
  },
  {
   "cell_type": "code",
   "execution_count": 16,
   "metadata": {
    "collapsed": false
   },
   "outputs": [
    {
     "data": {
      "text/plain": [
       "'iii'"
      ]
     },
     "execution_count": 16,
     "metadata": {},
     "output_type": "execute_result"
    }
   ],
   "source": [
    "#question 12.\n",
    "def generate_n_chars(n,c):\n",
    "    s = \"\"\n",
    "    for i in range(0, n):\n",
    "        s = s + c\n",
    "        \n",
    "    return s\n",
    "\n",
    "generate_n_chars(3,\"i\")"
   ]
  },
  {
   "cell_type": "code",
   "execution_count": null,
   "metadata": {
    "collapsed": true
   },
   "outputs": [],
   "source": []
  },
  {
   "cell_type": "code",
   "execution_count": null,
   "metadata": {
    "collapsed": true
   },
   "outputs": [],
   "source": []
  }
 ],
 "metadata": {
  "kernelspec": {
   "display_name": "Python 3",
   "language": "python",
   "name": "python3"
  },
  "language_info": {
   "codemirror_mode": {
    "name": "ipython",
    "version": 3
   },
   "file_extension": ".py",
   "mimetype": "text/x-python",
   "name": "python",
   "nbconvert_exporter": "python",
   "pygments_lexer": "ipython3",
   "version": "3.4.3"
  }
 },
 "nbformat": 4,
 "nbformat_minor": 0
}

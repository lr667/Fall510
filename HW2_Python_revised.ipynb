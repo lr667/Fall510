{
 "cells": [
  {
   "cell_type": "code",
   "execution_count": 2,
   "metadata": {
    "collapsed": false
   },
   "outputs": [
    {
     "name": "stdout",
     "output_type": "stream",
     "text": [
      "0\n",
      "1\n",
      "1\n",
      "2\n",
      "3\n",
      "5\n",
      "8\n",
      "13\n",
      "21\n",
      "34\n",
      "55\n",
      "89\n",
      "\n",
      "\n",
      "0\n",
      "1\n",
      "1\n",
      "2\n",
      "3\n",
      "5\n",
      "8\n",
      "13\n",
      "21\n",
      "34\n",
      "55\n",
      "89\n"
     ]
    }
   ],
   "source": [
    "# This question is to find the Fibonacci numbers that the largest number is less than the given n.\n",
    "#1 The first solution of question 1.\n",
    "def fib1(n):  #define a fib1 function meet the requirement.\n",
    "    a = 0   # the first number\n",
    "    b = 1   # the second number and we know b is the bigger one\n",
    "\n",
    "    while b < n:    # When b < n, we can print a,b and they are all < n\n",
    "        print(a)\n",
    "        print(b)    # We consider two numbers every time, and print 2 numbers if they < n.\n",
    "        a += b      \n",
    "        b += a\n",
    "   \n",
    "    if a < n:      # Consider if there is another number <n and > the biggest number we have printed.\n",
    "        print(a)    # Just add this biggest number.\n",
    "\n",
    "fib1(100)   # Print all of the numbers less than n in Fibonacci.\n",
    "\n",
    "print('\\n')  # To have a newline.\n",
    "\n",
    "#1 The 2nd solution of question 1. (And maybe it is a better one.)\n",
    "def fib2(n):   #define a fib2 function.\n",
    "    a = 0\n",
    "    b = 1\n",
    "    while a < n:       #two numbers, a = a + b and then swith them, we could build a Fib.\n",
    "        print(a)\n",
    "        a = a + b      # Always let 'a' be the larger one, we use exchange law to make this list ends in a.\n",
    "        temp = a\n",
    "        a = b\n",
    "        b = temp       \n",
    "\n",
    "fib2(100)   # Print all of the numbers less than n in Fibonacci.\n",
    "\n",
    "\n",
    "    "
   ]
  },
  {
   "cell_type": "code",
   "execution_count": 3,
   "metadata": {
    "collapsed": false
   },
   "outputs": [
    {
     "data": {
      "text/plain": [
       "45"
      ]
     },
     "execution_count": 3,
     "metadata": {},
     "output_type": "execute_result"
    }
   ],
   "source": [
    "# question 2.    This function just use the way of compare to output the larger one.\n",
    "def mymax(m,n):\n",
    "    if m > n:            #If m>n return m, else return n\n",
    "        return (m)\n",
    "    else:\n",
    "        return (n)\n",
    "    \n",
    "mymax(23,45)      # Print the larger one."
   ]
  },
  {
   "cell_type": "code",
   "execution_count": 4,
   "metadata": {
    "collapsed": false
   },
   "outputs": [
    {
     "data": {
      "text/plain": [
       "33"
      ]
     },
     "execution_count": 4,
     "metadata": {},
     "output_type": "execute_result"
    }
   ],
   "source": [
    "# question 3.   We will output the largest one among three inputs.\n",
    "#  It is similar to question 2.   \n",
    "def max_of_three(a,b,c):      \n",
    "\n",
    "    if a >= b and a >= c:      # In case 1, a is the largest among a,b,c.\n",
    "        return a\n",
    "    if b > a and b >= c:       # In case 2, b is the largest among a,b,c.\n",
    "        return b\n",
    "    else:                      # Otherwise, c is the largest.\n",
    "        return c\n",
    "    \n",
    "max_of_three(10,33,23)     # Print the maximum among them."
   ]
  },
  {
   "cell_type": "code",
   "execution_count": 9,
   "metadata": {
    "collapsed": false
   },
   "outputs": [
    {
     "data": {
      "text/plain": [
       "7"
      ]
     },
     "execution_count": 9,
     "metadata": {},
     "output_type": "execute_result"
    }
   ],
   "source": [
    "# question 4.   \n",
    "# We define a function to computes the length of a given list or string.\n",
    "def mylen(a):\n",
    "    if a == '':     #If string a is null, so just return 0 to say the length of a is 0.\n",
    "        return 0\n",
    "    else:        # If string a is not a null, we can calculate the len one by one. (use the recursion)\n",
    "        return 1 + mylen(a[1:]) \n",
    "    \n",
    "mylen(\"de dede\")    # Try to test mylen() function."
   ]
  },
  {
   "cell_type": "code",
   "execution_count": 2,
   "metadata": {
    "collapsed": false
   },
   "outputs": [
    {
     "data": {
      "text/plain": [
       "False"
      ]
     },
     "execution_count": 2,
     "metadata": {},
     "output_type": "execute_result"
    }
   ],
   "source": [
    "# question 5.\n",
    "# Define a function to determine if a character is a vowel.\n",
    "def myVol(a):\n",
    "    a = a.lower()   # first, we set all of the character as lowercases for convenience.\n",
    "    if a == 'a'or a=='e'or a=='i'or a=='o'or a=='u':  \n",
    "# If a is one of 'a', 'e', 'i', 'o', that is, if a is a vowel, output 'True'.\n",
    "        return True\n",
    "    else:\n",
    "# If a is not a vowel, just output 'False'.\n",
    "        return False\n",
    "    \n",
    "myVol('j')   # Try to test myVol() function. (use 'j' to test)\n"
   ]
  },
  {
   "cell_type": "code",
   "execution_count": 1,
   "metadata": {
    "collapsed": false
   },
   "outputs": [
    {
     "data": {
      "text/plain": [
       "'Helollolo Wororloldod'"
      ]
     },
     "execution_count": 1,
     "metadata": {},
     "output_type": "execute_result"
    }
   ],
   "source": [
    "#question 6.\n",
    "#Define a function to translate texts into a new style: double every consonant and place an occurrence of \"o\" in between.\n",
    "def myTrans(a):\n",
    "    #import string a\n",
    "    i = 1                 #Set the initial value of variable i(=1),\n",
    "    while i<=26:          # Consider lowercase first.\n",
    "        c = chr(ord('a') + i-1)   \n",
    "        # Switch text a to ascii code and find all the lowercase characters, put them into variable c one by one.\n",
    "        i = i+1\n",
    "        if c!='a' and c!='e' and c!='i' and c!='o' and c!='u':   # except all of the vowel.\n",
    "            a=a.replace(c,c+'o'+c)        # use c'o'c to replace character c.\n",
    "            \n",
    "    i = 1               #Set the initial value of variable i(=1),\n",
    "    while i<=26:      # Consider all of the uppercase.\n",
    "        c = chr(ord('A') + i-1)\n",
    "        # Switch text a to ascii code and find all the uppercase characters, put them into variable c one by one.\n",
    "        i = i+1\n",
    "        if c!='A' and c!='E' and c!='I' and c!='O' and c!='U':    # except all of the vowel.\n",
    "            a=a.replace(c,c+'o'+c)        # use c'o'c to replace character c.\n",
    "        \n",
    "        return a      # Print the translated text a.\n",
    "\n",
    "myTrans(\"Hello World\")   # Try to test myTrans() function. (use \"Hello World\" to test)\n",
    "        \n",
    "        \n"
   ]
  },
  {
   "cell_type": "code",
   "execution_count": 10,
   "metadata": {
    "collapsed": false
   },
   "outputs": [
    {
     "data": {
      "text/plain": [
       "14"
      ]
     },
     "execution_count": 10,
     "metadata": {},
     "output_type": "execute_result"
    }
   ],
   "source": [
    "#question 7-1.\n",
    "# Define a function to sum all the numbers in given list a.\n",
    "def sum(a):\n",
    "    l = len(a)  # Denote l to be the length of list a.\n",
    "    i = 0          # Set the initial value of variable i(=0), and the initial answer sum(=0).\n",
    "    sum = 0\n",
    "    while i < l:          # using loop (i:from 0 to l-1) to sum all the numbers in list a.\n",
    "        sum = sum + a[i]  # let null plus every number in list a to get the sum.\n",
    "        i += 1\n",
    "    return sum      # Print the sum of all the numbers in the list.\n",
    "        \n",
    "        \n",
    "sum([1,3,4,6])      # Try to test sum() function. (use [1,3,4,6] to test)\n",
    "\n",
    "\n"
   ]
  },
  {
   "cell_type": "code",
   "execution_count": 3,
   "metadata": {
    "collapsed": false
   },
   "outputs": [
    {
     "data": {
      "text/plain": [
       "72"
      ]
     },
     "execution_count": 3,
     "metadata": {},
     "output_type": "execute_result"
    }
   ],
   "source": [
    "#question 7-2\n",
    "# Define a function to multiply all the numbers in given list a.\n",
    "def multiply(a):\n",
    "    l = len(a)         # Denote l to be the length of list a.\n",
    "    i = 0              # Set the initial value of variable i(=0), and the initial answer pro(=1).\n",
    "    pro = 1\n",
    "    while i<l:              # using loop (i:from 0 to l-1) to multiply all the numbers in list a.\n",
    "        pro = pro * a[i]    # let 1 multiply every number in the list a to get the product.\n",
    "        i += 1\n",
    "    return pro            # Print the product of all the numbers in the list.\n",
    "        \n",
    "        \n",
    "multiply([1,3,4,6])     # Try to test multiply() function. (use [1,3,4,6] to test)"
   ]
  },
  {
   "cell_type": "code",
   "execution_count": 11,
   "metadata": {
    "collapsed": false
   },
   "outputs": [
    {
     "data": {
      "text/plain": [
       "'gnitset ma I'"
      ]
     },
     "execution_count": 11,
     "metadata": {},
     "output_type": "execute_result"
    }
   ],
   "source": [
    "#question 8.\n",
    "# Define a function to output the reversal of a string.\n",
    "def reverse(a):\n",
    "    l = len(a)  # get the lenth of string a.\n",
    "    i = l-1     # Set the initial value of variable i(=l-1), and the initial answer c(=\"\").\n",
    "    c = \"\"\n",
    "    while i>=0:        # output string c in reverse order of a one by one.\n",
    "        c = c + a[i]\n",
    "        i = i-1\n",
    "    return c        # Print the reversal string c.\n",
    "\n",
    "reverse(\"I am testing\")      # Try to test reverse() function. (use \"I am testing\" to test)"
   ]
  },
  {
   "cell_type": "code",
   "execution_count": 2,
   "metadata": {
    "collapsed": false
   },
   "outputs": [
    {
     "data": {
      "text/plain": [
       "True"
      ]
     },
     "execution_count": 2,
     "metadata": {},
     "output_type": "execute_result"
    }
   ],
   "source": [
    "# question 9.           It use the principle in question8.\n",
    "# Define a function to determine if a string lookes the same written backwards, that is, determine if it's a palindrome.\n",
    "def is_palindrome(a):\n",
    "    l = len(a)        # get the lenth of string a.\n",
    "    i = l-1           # Set the initial value of variable i(=l-1), and the initial answer c(=\"\").\n",
    "    c = \"\"\n",
    "    while i>=0:\n",
    "        c = c + a[i]\n",
    "        i = i-1           # get the reverse of a, say c.\n",
    "    if(c==a):             # If c = a, it is palindrome, print 'True'.\n",
    "        return True\n",
    "    else:\n",
    "        return False      # If c differs from a, then it is not a palindrome, print 'False'.\n",
    "    \n",
    "is_palindrome(\"radar\")     # Try to test is_palindrome() function. (use \"radar\" to test)"
   ]
  },
  {
   "cell_type": "code",
   "execution_count": 14,
   "metadata": {
    "collapsed": false
   },
   "outputs": [
    {
     "data": {
      "text/plain": [
       "False"
      ]
     },
     "execution_count": 14,
     "metadata": {},
     "output_type": "execute_result"
    }
   ],
   "source": [
    "#question 10.\n",
    "# Define a function to determine if a value x is in a list of value a.\n",
    "def is_member(x,a):\n",
    "    l = len(a)      # get the lenth of string a.\n",
    "    i = 0           # Set the initial value of variable i(=0), and the initial answer c(=Flase).\n",
    "    c = False\n",
    "    while i<l:     # Test value x one by one: if it is in a. (use the method by question 9.)\n",
    "        if x==a[i]:\n",
    "            c = True    # If the value x is in a, c = \"True\" instead of \"False\".\n",
    "        i += 1\n",
    "    return c            # Print c, that is get the answer.\n",
    "\n",
    "is_member(3,[9,5,7,0,9])    # Try to test is_member() function. (use value 3 & list of value [9,5,7,0,9] to test)\n",
    "    "
   ]
  },
  {
   "cell_type": "code",
   "execution_count": 3,
   "metadata": {
    "collapsed": false
   },
   "outputs": [
    {
     "data": {
      "text/plain": [
       "True"
      ]
     },
     "execution_count": 3,
     "metadata": {},
     "output_type": "execute_result"
    }
   ],
   "source": [
    "#question 11.\n",
    "# Define a function to determine if there is at least one member in common between two lists.\n",
    "def overlapping(a1,a2):\n",
    "    l1 = len(a1)      # get the lenth of string a1.\n",
    "    l2 = len(a2)      # get the lenth of string a2.\n",
    "    c = False   # Set the initial output is False. If overlapping happens and get true answer instead.\n",
    "    i = 0         # Set the initial value of variable i(=0),j(=0).\n",
    "    j = 0\n",
    "    for i in range(0,l1):  # use every value in list a1, to test if it is in list a2.\n",
    "        for j in range(0,l2):   \n",
    "            if a1[i]==a2[j]:\n",
    "                c = True       # If there is a member both in list a1 and list a2, c = \"True\" instead of \"False\".\n",
    "    return c                   # Print the answer.          \n",
    "\n",
    "overlapping([1,2,5,8],[3,6,7,5,0,9,10,3])     \n",
    "# Try to test overlapping() function. (use list [1,2,5,8] & list [3,6,7,5,0,9,10,3] to test)\n",
    "            "
   ]
  },
  {
   "cell_type": "code",
   "execution_count": 16,
   "metadata": {
    "collapsed": false
   },
   "outputs": [
    {
     "data": {
      "text/plain": [
       "'iii'"
      ]
     },
     "execution_count": 16,
     "metadata": {},
     "output_type": "execute_result"
    }
   ],
   "source": [
    "#question 12.     \n",
    "# (I'm an international student, maybe there should not be 'in', I am sorry I am not sure,just to separate c and n)\n",
    "# Define a function to generate a character c (in) n times\n",
    "def generate_n_chars(n,c):\n",
    "    s = \"\"          # Set the initial answer s(=\"\").\n",
    "    for i in range(0, n):\n",
    "        s = s + c              # Let c be generated n times.\n",
    "        \n",
    "    return s          # Print the answer s.\n",
    "\n",
    "generate_n_chars(3,\"i\")    # Try to test generate_n_chars() function. ( to test by generating \"i\" (in) 3 times)"
   ]
  },
  {
   "cell_type": "code",
   "execution_count": null,
   "metadata": {
    "collapsed": true
   },
   "outputs": [],
   "source": []
  },
  {
   "cell_type": "code",
   "execution_count": null,
   "metadata": {
    "collapsed": true
   },
   "outputs": [],
   "source": []
  }
 ],
 "metadata": {
  "kernelspec": {
   "display_name": "Python 3",
   "language": "python",
   "name": "python3"
  },
  "language_info": {
   "codemirror_mode": {
    "name": "ipython",
    "version": 3
   },
   "file_extension": ".py",
   "mimetype": "text/x-python",
   "name": "python",
   "nbconvert_exporter": "python",
   "pygments_lexer": "ipython3",
   "version": "3.4.3"
  }
 },
 "nbformat": 4,
 "nbformat_minor": 0
}

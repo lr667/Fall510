{
 "cells": [
  {
   "cell_type": "code",
   "execution_count": 2,
   "metadata": {
    "collapsed": false
   },
   "outputs": [
    {
     "name": "stdout",
     "output_type": "stream",
     "text": [
      "0\n",
      "1\n",
      "1\n",
      "2\n",
      "3\n",
      "5\n",
      "8\n",
      "13\n",
      "21\n",
      "34\n",
      "55\n",
      "89\n",
      "\n",
      "\n",
      "0\n",
      "1\n",
      "1\n",
      "2\n",
      "3\n",
      "5\n",
      "8\n",
      "13\n",
      "21\n",
      "34\n",
      "55\n",
      "89\n"
     ]
    }
   ],
   "source": [
    "#1 The first solution of qiestion 1.\n",
    "def fib1(n):  #define a fib1 function meet the requirement.\n",
    "    a = 0   # the first number\n",
    "    b = 1   # the second number and we know b is the bigger one\n",
    "\n",
    "    while b < n:    # when b < n, we can print a,b and they are all < n\n",
    "        print(a)\n",
    "        print(b)    # in this case, this list will end in b.\n",
    "        a += b\n",
    "        b += a\n",
    "   \n",
    "    if a < n:      # sometimes another case sill happen: it ends in a.\n",
    "        print(a)\n",
    "\n",
    "fib1(100)\n",
    "\n",
    "print('\\n')\n",
    "\n",
    "#1 The second solution of question 1.\n",
    "def fib2(n):   #define a fib2 function.\n",
    "    a = 0\n",
    "    b = 1\n",
    "    while a < n:       #two numbers, a = a + b and then swith them, we could build a Fib.\n",
    "        print(a)\n",
    "        a = a + b      # in this solution, we use exchange law to make this list ends in a.\n",
    "        temp = a\n",
    "        a = b\n",
    "        b = temp\n",
    "fib2(100)\n",
    "    "
   ]
  },
  {
   "cell_type": "code",
   "execution_count": 3,
   "metadata": {
    "collapsed": false
   },
   "outputs": [
    {
     "data": {
      "text/plain": [
       "45"
      ]
     },
     "execution_count": 3,
     "metadata": {},
     "output_type": "execute_result"
    }
   ],
   "source": [
    "# question 2.    This function just use compare to output the bigger one\n",
    "def mymax(m,n):\n",
    "    if m > n:            #if m>n return m, else return n\n",
    "        return (m)\n",
    "    else:\n",
    "        return (n)\n",
    "    \n",
    "mymax(23,45)"
   ]
  },
  {
   "cell_type": "code",
   "execution_count": 4,
   "metadata": {
    "collapsed": false
   },
   "outputs": [
    {
     "data": {
      "text/plain": [
       "33"
      ]
     },
     "execution_count": 4,
     "metadata": {},
     "output_type": "execute_result"
    }
   ],
   "source": [
    "# question 3.           It is similar to question 2.   \n",
    "def max_of_three(a,b,c):      \n",
    "    # we list three cases when a,b,c are the maximun.\n",
    "    if a >= b and a >= c:\n",
    "        return a\n",
    "    if b > a and b >= c:\n",
    "        return b\n",
    "    else:\n",
    "        return c\n",
    "    \n",
    "max_of_three(10,33,23)    "
   ]
  },
  {
   "cell_type": "code",
   "execution_count": 9,
   "metadata": {
    "collapsed": false
   },
   "outputs": [
    {
     "data": {
      "text/plain": [
       "7"
      ]
     },
     "execution_count": 9,
     "metadata": {},
     "output_type": "execute_result"
    }
   ],
   "source": [
    "# question 4.    If string a is not a null, we can calculate the len one by one. (use the recursion)\n",
    "def mylen(a):\n",
    "    if a == '':\n",
    "        return 0\n",
    "    else:\n",
    "        return 1 + mylen(a[1:])\n",
    "    \n",
    "mylen(\"de dede\")"
   ]
  },
  {
   "cell_type": "code",
   "execution_count": 7,
   "metadata": {
    "collapsed": false
   },
   "outputs": [
    {
     "data": {
      "text/plain": [
       "True"
      ]
     },
     "execution_count": 7,
     "metadata": {},
     "output_type": "execute_result"
    }
   ],
   "source": [
    "# question 5.\n",
    "def myVol(a):\n",
    "    a = a.lower()   # first, we set all of the character as lowercases for convenience.\n",
    "    if a == 'a'or'e'or'i'or'o'or'u':\n",
    "        return True\n",
    "    else:\n",
    "        return False\n",
    "    \n",
    "myVol('O')\n"
   ]
  },
  {
   "cell_type": "code",
   "execution_count": 8,
   "metadata": {
    "collapsed": false
   },
   "outputs": [
    {
     "data": {
      "text/plain": [
       "'HoHelollolo WoWororloldod'"
      ]
     },
     "execution_count": 8,
     "metadata": {},
     "output_type": "execute_result"
    }
   ],
   "source": [
    "#question 6.\n",
    "def myTrans(a):\n",
    "    #import string\n",
    "    i = 1\n",
    "    while i<=26:          # let c become lowercase one by one to test\n",
    "        c = chr(ord('a') + i-1) #switch to ascii code and generate 26 code\n",
    "        i = i+1\n",
    "        if c!='a' and c!='e' and c!='i' and c!='o' and c!='u':   #except all of the consonant\n",
    "            a=a.replace(c,c+'o'+c)   \n",
    "            \n",
    "    i = 1\n",
    "    while i<=26:      # consider all of the uppercase one by one\n",
    "        c = chr(ord('A') + i-1) # same as above\n",
    "        i = i+1\n",
    "        if c!='A' and c!='E' and c!='I' and c!='O' and c!='U':\n",
    "            a=a.replace(c,c+'o'+c)\n",
    "    return a\n",
    "\n",
    "myTrans(\"Hello World\")\n",
    "        \n",
    "        \n"
   ]
  },
  {
   "cell_type": "code",
   "execution_count": 10,
   "metadata": {
    "collapsed": false
   },
   "outputs": [
    {
     "data": {
      "text/plain": [
       "14"
      ]
     },
     "execution_count": 10,
     "metadata": {},
     "output_type": "execute_result"
    }
   ],
   "source": [
    "#question 7-1.\n",
    "def sum(a):\n",
    "    l = len(a)\n",
    "    i = 0\n",
    "    sum = 0\n",
    "    while i < l:          # using loop to sum all the numbers in a list\n",
    "        sum = sum + a[i]  # let null plus every number in list a.\n",
    "        i += 1\n",
    "    return sum\n",
    "        \n",
    "        \n",
    "sum([1,3,4,6])\n",
    "\n",
    "\n"
   ]
  },
  {
   "cell_type": "code",
   "execution_count": 3,
   "metadata": {
    "collapsed": false
   },
   "outputs": [
    {
     "data": {
      "text/plain": [
       "72"
      ]
     },
     "execution_count": 3,
     "metadata": {},
     "output_type": "execute_result"
    }
   ],
   "source": [
    "#question 7-2\n",
    "def multiply(a):\n",
    "    l = len(a)\n",
    "    i = 0\n",
    "    pro = 1\n",
    "    while i<l:              # using loop to multiply all the numbers in the list\n",
    "        pro = pro * a[i]    # let 1 multiply every number in the list a.\n",
    "        i += 1\n",
    "    return pro\n",
    "        \n",
    "        \n",
    "multiply([1,3,4,6])"
   ]
  },
  {
   "cell_type": "code",
   "execution_count": 11,
   "metadata": {
    "collapsed": false
   },
   "outputs": [
    {
     "data": {
      "text/plain": [
       "'gnitset ma I'"
      ]
     },
     "execution_count": 11,
     "metadata": {},
     "output_type": "execute_result"
    }
   ],
   "source": [
    "#question 8.\n",
    "def reverse(a):\n",
    "    l = len(a)  # get the lenth of string a.\n",
    "    i = l-1\n",
    "    c = \"\"\n",
    "    while i>=0:        # output string c in reverse order of a.\n",
    "        c = c + a[i]\n",
    "        i = i-1\n",
    "    return c\n",
    "\n",
    "reverse(\"I am testing\")"
   ]
  },
  {
   "cell_type": "code",
   "execution_count": 12,
   "metadata": {
    "collapsed": false
   },
   "outputs": [
    {
     "data": {
      "text/plain": [
       "True"
      ]
     },
     "execution_count": 12,
     "metadata": {},
     "output_type": "execute_result"
    }
   ],
   "source": [
    "#question 9.           It use the principle in question8.\n",
    "def is_palindrome(a):\n",
    "    l = len(a)\n",
    "    i = l-1\n",
    "    c = \"\"\n",
    "    while i>=0:\n",
    "        c = c + a[i]\n",
    "        i = i-1           #get the reverse of a\n",
    "    if(c==a):             #It differs question8 from this. If c = a, it is palindrome.\n",
    "        return True\n",
    "    else:\n",
    "        return False\n",
    "    \n",
    "is_palindrome(\"radar\")"
   ]
  },
  {
   "cell_type": "code",
   "execution_count": 14,
   "metadata": {
    "collapsed": false
   },
   "outputs": [
    {
     "data": {
      "text/plain": [
       "False"
      ]
     },
     "execution_count": 14,
     "metadata": {},
     "output_type": "execute_result"
    }
   ],
   "source": [
    "#question 10.\n",
    "def is_member(x,a):\n",
    "    l = len(a)\n",
    "    i = 0\n",
    "    c = False\n",
    "    while i<l:     # Test value x one by one:(if it is in a)\n",
    "        if x==a[i]:\n",
    "            c = True\n",
    "        i += 1\n",
    "    return c\n",
    "\n",
    "is_member(3,[9,5,7,0,9])\n",
    "    "
   ]
  },
  {
   "cell_type": "code",
   "execution_count": 15,
   "metadata": {
    "collapsed": false
   },
   "outputs": [
    {
     "data": {
      "text/plain": [
       "True"
      ]
     },
     "execution_count": 15,
     "metadata": {},
     "output_type": "execute_result"
    }
   ],
   "source": [
    "#question 11.\n",
    "def overlapping(a1,a2):\n",
    "    l1 = len(a1)\n",
    "    l2 = len(a2)\n",
    "    c = False   # Set the original output is false. If overlapping happens and get true answer in stead.\n",
    "    i = 0\n",
    "    j = 0\n",
    "    for i in range(0,l1):  # use every value in list a1, to test if it is in list a2.\n",
    "        for j in range(0,l2):   \n",
    "            if a1[i]==a2[j]:\n",
    "                c = True\n",
    "    return c\n",
    "\n",
    "overlapping([1,2,5,8],[3,6,7,5,0,9,10,3])\n",
    "            "
   ]
  },
  {
   "cell_type": "code",
   "execution_count": 16,
   "metadata": {
    "collapsed": false
   },
   "outputs": [
    {
     "data": {
      "text/plain": [
       "'iii'"
      ]
     },
     "execution_count": 16,
     "metadata": {},
     "output_type": "execute_result"
    }
   ],
   "source": [
    "#question 12.     # generate c in n times\n",
    "def generate_n_chars(n,c):\n",
    "    s = \"\"\n",
    "    for i in range(0, n):\n",
    "        s = s + c              # Let c be generated n times.\n",
    "        \n",
    "    return s\n",
    "\n",
    "generate_n_chars(3,\"i\")"
   ]
  },
  {
   "cell_type": "code",
   "execution_count": null,
   "metadata": {
    "collapsed": true
   },
   "outputs": [],
   "source": []
  },
  {
   "cell_type": "code",
   "execution_count": null,
   "metadata": {
    "collapsed": true
   },
   "outputs": [],
   "source": []
  }
 ],
 "metadata": {
  "kernelspec": {
   "display_name": "Python 3",
   "language": "python",
   "name": "python3"
  },
  "language_info": {
   "codemirror_mode": {
    "name": "ipython",
    "version": 3
   },
   "file_extension": ".py",
   "mimetype": "text/x-python",
   "name": "python",
   "nbconvert_exporter": "python",
   "pygments_lexer": "ipython3",
   "version": "3.4.3"
  }
 },
 "nbformat": 4,
 "nbformat_minor": 0
}
